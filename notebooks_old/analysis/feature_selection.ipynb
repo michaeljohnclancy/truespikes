{
 "cells": [
  {
   "cell_type": "code",
   "execution_count": 2,
   "metadata": {
    "collapsed": true
   },
   "outputs": [],
   "source": [
    "## Is RFC consistent across multiple splits of the dataset?\n",
    "## If so, are the feature importances also consistent?\n",
    "## If so, what is the average ranking?\n",
    "from sklearn.metrics import f1_score, accuracy_score\n",
    "from sklearn.pipeline import make_pipeline\n",
    "from sklearn.preprocessing import StandardScaler\n",
    "from sf_utils import get_metric_metadata\n",
    "from utils import get_study_set_metrics_data\n",
    "\n",
    "\n",
    "STUDY_SET_NAMES=['HYBRID_JANELIA', 'LONG_DRIFT', 'LONG_STATIC',\n",
    "                 'MANUAL_FRANKLAB', 'SYNTH_BIONET', 'SYNTH_MAGLAND',\n",
    "                 'SYNTH_MEAREC_TETRODE']"
   ]
  },
  {
   "cell_type": "code",
   "execution_count": 2,
   "outputs": [],
   "source": [
    "def score(dataset, model):\n",
    "    model.fit(dataset['X_train'], dataset['y_train'])\n",
    "\n",
    "    y_test_preds = model.predict(dataset['X_test'])\n",
    "    f1 = f1_score(dataset['y_test'], y_test_preds)\n",
    "\n",
    "    print(f'Linear SVC F1-Score is {f1}')\n",
    "    print(accuracy_score(dataset['y_test'], y_test_preds))"
   ],
   "metadata": {
    "collapsed": false,
    "pycharm": {
     "name": "#%%\n"
    }
   }
  },
  {
   "cell_type": "code",
   "execution_count": 3,
   "outputs": [
    {
     "data": {
      "text/plain": "49374"
     },
     "execution_count": 3,
     "metadata": {},
     "output_type": "execute_result"
    }
   ],
   "source": [
    "dataset = get_study_set_metrics_data(STUDY_SET_NAMES, include_meta=True)"
   ],
   "metadata": {
    "collapsed": false,
    "pycharm": {
     "name": "#%%\n"
    }
   }
  },
  {
   "cell_type": "code",
   "execution_count": 4,
   "outputs": [
    {
     "data": {
      "text/plain": "array(['HerdingSpikes2', 'IronClust', 'JRClust', 'Klusta',\n       'MountainSort4', 'SpykingCircus', 'Tridesclous', 'KiloSort',\n       'KiloSort2'], dtype=object)"
     },
     "execution_count": 4,
     "metadata": {},
     "output_type": "execute_result"
    }
   ],
   "source": [
    "dataset['sorterName'].unique()"
   ],
   "metadata": {
    "collapsed": false,
    "pycharm": {
     "name": "#%%\n"
    }
   }
  },
  {
   "cell_type": "code",
   "execution_count": null,
   "outputs": [],
   "source": [
    "X = dataset.drop(columns=['fp'])\n",
    "y = dataset['fp']"
   ],
   "metadata": {
    "collapsed": false,
    "pycharm": {
     "name": "#%%\n"
    }
   }
  },
  {
   "cell_type": "code",
   "execution_count": 15,
   "outputs": [],
   "source": [
    "from sklearn.model_selection import cross_val_score, KFold\n",
    "from sklearn.ensemble import RandomForestClassifier\n",
    "\n",
    "\n",
    "model = RandomForestClassifier()\n",
    "# scores = cross_val_score(estimator=model, X=dataset.drop(columns=['fp']), y=dataset['fp'], cv=3, scoring='f1')\n",
    "\n",
    "kf = KFold(n_splits=5)\n",
    "for train_index, test_index in kf.split(X):\n",
    "    X_train, X_test = X[train_index], X[test_index]\n",
    "    y_train, y_test = y[train_index], y[test_index]"
   ],
   "metadata": {
    "collapsed": false,
    "pycharm": {
     "name": "#%%\n"
    }
   }
  },
  {
   "cell_type": "code",
   "execution_count": null,
   "outputs": [],
   "source": [],
   "metadata": {
    "collapsed": false,
    "pycharm": {
     "name": "#%%\n"
    }
   }
  }
 ],
 "metadata": {
  "kernelspec": {
   "display_name": "Python 3",
   "language": "python",
   "name": "python3"
  },
  "language_info": {
   "codemirror_mode": {
    "name": "ipython",
    "version": 2
   },
   "file_extension": ".py",
   "mimetype": "text/x-python",
   "name": "python",
   "nbconvert_exporter": "python",
   "pygments_lexer": "ipython2",
   "version": "2.7.6"
  }
 },
 "nbformat": 4,
 "nbformat_minor": 0
}