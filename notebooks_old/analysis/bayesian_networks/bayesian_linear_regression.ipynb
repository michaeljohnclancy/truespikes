{
 "cells": [
  {
   "cell_type": "code",
   "execution_count": 1,
   "metadata": {},
   "outputs": [
    {
     "name": "stderr",
     "output_type": "stream",
     "text": [
      "ERROR (theano.gpuarray): pygpu was configured but could not be imported or is too old (version 0.7 or higher required)\n",
      "NoneType: None\n"
     ]
    }
   ],
   "source": [
    "from models import build_bayesian_linear_regression_model\n",
    "from train import get_prepared_agreement_score_dataset\n",
    "%load_ext autoreload\n",
    "%autoreload 2\n",
    "\n",
    "from sklearn.metrics import mean_squared_error\n",
    "\n",
    "import matplotlib.pyplot as plt\n",
    "import pandas as pd\n",
    "import arviz as az\n",
    "import pymc3 as pm\n",
    "from consts import *\n",
    "from fastprogress.fastprogress import force_console_behavior\n",
    "master_bar, progress_bar = force_console_behavior()"
   ]
  },
  {
   "cell_type": "code",
   "execution_count": 2,
   "metadata": {},
   "outputs": [],
   "source": [
    "def make_model_idata(model):\n",
    "    with model:\n",
    "        idata = pm.sample(draws=4000, tune=4000, cores=4, target_accept=0.99, init='adapt_diag', return_inferencedata=True)\n",
    "    return idata\n",
    "    \n",
    "def logit_transform(data):\n",
    "    return np.log(data / (1 - data))\n",
    "\n",
    "def inverse_logit_transform(data):\n",
    "    return 1 / (np.exp(-data) + 1)\n",
    "    "
   ]
  },
  {
   "cell_type": "code",
   "execution_count": 3,
   "metadata": {
    "pycharm": {
     "name": "#%%\n"
    }
   },
   "outputs": [],
   "source": [
    "# data_loc = '/home/mclancy/truespikes/hierarchical_linear_regression_data.hd5'\n",
    "#\n",
    "# data_store = pd.HDFStore(data_loc, mode='r')\n",
    "# X_train = data_store['X_train']\n",
    "# y_train = data_store['y_train']\n",
    "# X_test = data_store['X_test']\n",
    "# y_test = data_store['y_test']\n",
    "\n",
    "X_train, y_train, X_test, y_test = get_prepared_agreement_score_dataset()"
   ]
  },
  {
   "cell_type": "code",
   "execution_count": 4,
   "metadata": {
    "pycharm": {
     "name": "#%%\n"
    }
   },
   "outputs": [
    {
     "name": "stdout",
     "output_type": "stream",
     "text": [
      "X_obs __str__ = [7780   13]\n",
      "Weights __str__ = [[0.96781373 3.905024   5.4138613  ... 3.5512042  4.8546715  1.7091982 ]\n",
      " [0.96781373 3.905024   5.4138613  ... 3.5512042  4.8546715  1.7091982 ]\n",
      " [2.140692   5.0504885  1.5091169  ... 2.1828034  2.5767944  4.12758   ]\n",
      " ...\n",
      " [0.92268205 4.4211545  4.572377   ... 3.896056   4.4197907  1.7450457 ]\n",
      " [0.92268205 4.4211545  4.572377   ... 3.896056   4.4197907  1.7450457 ]\n",
      " [5.492206   3.9271328  3.0139067  ... 3.2939944  1.5145316  3.9632764 ]]\n",
      "Bias __str__ = [7780   13]\n",
      "X_obs __str__ = [7780   13]\n",
      "Weights __str__ = [[3.7150297  3.2805972  3.0167544  ... 0.51656854 3.5611787  3.2609615 ]\n",
      " [3.7150297  3.2805972  3.0167544  ... 0.51656854 3.5611787  3.2609615 ]\n",
      " [4.211234   3.1548336  3.8003075  ... 4.055042   5.132705   5.2559857 ]\n",
      " ...\n",
      " [1.3650038  2.3135896  4.7583623  ... 4.185471   2.2177787  4.4475937 ]\n",
      " [1.3650038  2.3135896  4.7583623  ... 4.185471   2.2177787  4.4475937 ]\n",
      " [2.6378317  3.6254234  2.8381863  ... 3.5981982  3.3837285  3.456945  ]]\n",
      "Bias __str__ = [7780   13]\n"
     ]
    }
   ],
   "source": [
    "semipooled_model = build_bayesian_linear_regression_model(\n",
    "X_train, y_train, metric_names=METRIC_NAMES,\n",
    "    sorter_names=list(SORTER_NAMES.keys()),\n",
    "    batch_size=None\n",
    ")\n",
    "\n",
    "varying_weights_and_bias_model = build_bayesian_linear_regression_model(\n",
    "X_train, y_train, metric_names=METRIC_NAMES,\n",
    "    sorter_names=list(SORTER_NAMES.keys()),\n",
    "    batch_size=None\n",
    ")"
   ]
  },
  {
   "cell_type": "code",
   "execution_count": 5,
   "metadata": {
    "pycharm": {
     "name": "#%%\n"
    }
   },
   "outputs": [],
   "source": [
    "# semipooled_idata = make_model_idata(semipooled_model)\n",
    "# semipooled_idata.to_netcdf('/home/mclancy/truespikes/traces/hierarchical_linear_regression/semipooled_trace.netcdf')\n",
    "semipooled_idata = az.from_netcdf('/home/mclancy/truespikes/traces/hierarchical_linear_regression/semipooled_trace.netcdf')\n",
    "\n",
    "#varying_weights_and_bias_idata = make_model_idata(varying_weights_and_bias_model)\n",
    "#varying_weights_and_bias_idata.to_netcdf('/home/mclancy/truespikes/traces/hierarchical_linear_regression/varying_weights_and_bias_trace.netcdf')\n",
    "varying_weights_and_bias_idata = az.from_netcdf('/home/mclancy/truespikes/traces/hierarchical_linear_regression/varying_weights_and_bias_trace.netcdf')"
   ]
  },
  {
   "cell_type": "code",
   "execution_count": 6,
   "metadata": {
    "pycharm": {
     "name": "#%%\n"
    }
   },
   "outputs": [],
   "source": [
    "semipooled_summary = az.summary(varying_weights_and_bias_idata)\n"
   ]
  },
  {
   "cell_type": "code",
   "execution_count": null,
   "outputs": [],
   "source": [
    "semipooled_summary"
   ],
   "metadata": {
    "collapsed": false,
    "pycharm": {
     "name": "#%%\n",
     "is_executing": true
    }
   }
  },
  {
   "cell_type": "code",
   "execution_count": 8,
   "metadata": {},
   "outputs": [
    {
     "ename": "KeyboardInterrupt",
     "evalue": "",
     "output_type": "error",
     "traceback": [
      "\u001B[0;31m---------------------------------------------------------------------------\u001B[0m",
      "\u001B[0;31mKeyboardInterrupt\u001B[0m                         Traceback (most recent call last)",
      "\u001B[0;32m/tmp/ipykernel_309384/1694897908.py\u001B[0m in \u001B[0;36m<module>\u001B[0;34m\u001B[0m\n\u001B[0;32m----> 1\u001B[0;31m \u001B[0mvarying_weights_and_bias_idata\u001B[0m \u001B[0;34m=\u001B[0m \u001B[0maz\u001B[0m\u001B[0;34m.\u001B[0m\u001B[0msummary\u001B[0m\u001B[0;34m(\u001B[0m\u001B[0msemipooled_idata\u001B[0m\u001B[0;34m)\u001B[0m\u001B[0;34m\u001B[0m\u001B[0;34m\u001B[0m\u001B[0m\n\u001B[0m\u001B[1;32m      2\u001B[0m \u001B[0;34m\u001B[0m\u001B[0m\n",
      "\u001B[0;32m~/.local/share/.pyenv/versions/3.8.3/envs/truespikes/lib/python3.8/site-packages/arviz/stats/stats.py\u001B[0m in \u001B[0;36msummary\u001B[0;34m(data, var_names, filter_vars, group, fmt, kind, round_to, circ_var_names, stat_funcs, extend, hdi_prob, order, index_origin, skipna, coords, dims)\u001B[0m\n\u001B[1;32m   1209\u001B[0m \u001B[0;34m\u001B[0m\u001B[0m\n\u001B[1;32m   1210\u001B[0m     \u001B[0;32mif\u001B[0m \u001B[0mkind\u001B[0m \u001B[0;32min\u001B[0m \u001B[0;34m[\u001B[0m\u001B[0;34m\"all\"\u001B[0m\u001B[0;34m,\u001B[0m \u001B[0;34m\"diagnostics\"\u001B[0m\u001B[0;34m]\u001B[0m\u001B[0;34m:\u001B[0m\u001B[0;34m\u001B[0m\u001B[0;34m\u001B[0m\u001B[0m\n\u001B[0;32m-> 1211\u001B[0;31m         mcse_mean, mcse_sd, ess_bulk, ess_tail, r_hat = xr.apply_ufunc(\n\u001B[0m\u001B[1;32m   1212\u001B[0m             \u001B[0m_make_ufunc\u001B[0m\u001B[0;34m(\u001B[0m\u001B[0m_multichain_statistics\u001B[0m\u001B[0;34m,\u001B[0m \u001B[0mn_output\u001B[0m\u001B[0;34m=\u001B[0m\u001B[0;36m5\u001B[0m\u001B[0;34m,\u001B[0m \u001B[0mravel\u001B[0m\u001B[0;34m=\u001B[0m\u001B[0;32mFalse\u001B[0m\u001B[0;34m)\u001B[0m\u001B[0;34m,\u001B[0m\u001B[0;34m\u001B[0m\u001B[0;34m\u001B[0m\u001B[0m\n\u001B[1;32m   1213\u001B[0m             \u001B[0mdataset\u001B[0m\u001B[0;34m,\u001B[0m\u001B[0;34m\u001B[0m\u001B[0;34m\u001B[0m\u001B[0m\n",
      "\u001B[0;32m~/.local/share/.pyenv/versions/3.8.3/envs/truespikes/lib/python3.8/site-packages/xarray/core/computation.py\u001B[0m in \u001B[0;36mapply_ufunc\u001B[0;34m(func, input_core_dims, output_core_dims, exclude_dims, vectorize, join, dataset_join, dataset_fill_value, keep_attrs, kwargs, dask, output_dtypes, output_sizes, meta, dask_gufunc_kwargs, *args)\u001B[0m\n\u001B[1;32m   1160\u001B[0m     \u001B[0;31m# feed datasets apply_variable_ufunc through apply_dataset_vfunc\u001B[0m\u001B[0;34m\u001B[0m\u001B[0;34m\u001B[0m\u001B[0;34m\u001B[0m\u001B[0m\n\u001B[1;32m   1161\u001B[0m     \u001B[0;32melif\u001B[0m \u001B[0many\u001B[0m\u001B[0;34m(\u001B[0m\u001B[0mis_dict_like\u001B[0m\u001B[0;34m(\u001B[0m\u001B[0ma\u001B[0m\u001B[0;34m)\u001B[0m \u001B[0;32mfor\u001B[0m \u001B[0ma\u001B[0m \u001B[0;32min\u001B[0m \u001B[0margs\u001B[0m\u001B[0;34m)\u001B[0m\u001B[0;34m:\u001B[0m\u001B[0;34m\u001B[0m\u001B[0;34m\u001B[0m\u001B[0m\n\u001B[0;32m-> 1162\u001B[0;31m         return apply_dataset_vfunc(\n\u001B[0m\u001B[1;32m   1163\u001B[0m             \u001B[0mvariables_vfunc\u001B[0m\u001B[0;34m,\u001B[0m\u001B[0;34m\u001B[0m\u001B[0;34m\u001B[0m\u001B[0m\n\u001B[1;32m   1164\u001B[0m             \u001B[0;34m*\u001B[0m\u001B[0margs\u001B[0m\u001B[0;34m,\u001B[0m\u001B[0;34m\u001B[0m\u001B[0;34m\u001B[0m\u001B[0m\n",
      "\u001B[0;32m~/.local/share/.pyenv/versions/3.8.3/envs/truespikes/lib/python3.8/site-packages/xarray/core/computation.py\u001B[0m in \u001B[0;36mapply_dataset_vfunc\u001B[0;34m(func, signature, join, dataset_join, fill_value, exclude_dims, keep_attrs, *args)\u001B[0m\n\u001B[1;32m    448\u001B[0m     \u001B[0margs\u001B[0m \u001B[0;34m=\u001B[0m \u001B[0;34m[\u001B[0m\u001B[0mgetattr\u001B[0m\u001B[0;34m(\u001B[0m\u001B[0marg\u001B[0m\u001B[0;34m,\u001B[0m \u001B[0;34m\"data_vars\"\u001B[0m\u001B[0;34m,\u001B[0m \u001B[0marg\u001B[0m\u001B[0;34m)\u001B[0m \u001B[0;32mfor\u001B[0m \u001B[0marg\u001B[0m \u001B[0;32min\u001B[0m \u001B[0margs\u001B[0m\u001B[0;34m]\u001B[0m\u001B[0;34m\u001B[0m\u001B[0;34m\u001B[0m\u001B[0m\n\u001B[1;32m    449\u001B[0m \u001B[0;34m\u001B[0m\u001B[0m\n\u001B[0;32m--> 450\u001B[0;31m     result_vars = apply_dict_of_variables_vfunc(\n\u001B[0m\u001B[1;32m    451\u001B[0m         \u001B[0mfunc\u001B[0m\u001B[0;34m,\u001B[0m \u001B[0;34m*\u001B[0m\u001B[0margs\u001B[0m\u001B[0;34m,\u001B[0m \u001B[0msignature\u001B[0m\u001B[0;34m=\u001B[0m\u001B[0msignature\u001B[0m\u001B[0;34m,\u001B[0m \u001B[0mjoin\u001B[0m\u001B[0;34m=\u001B[0m\u001B[0mdataset_join\u001B[0m\u001B[0;34m,\u001B[0m \u001B[0mfill_value\u001B[0m\u001B[0;34m=\u001B[0m\u001B[0mfill_value\u001B[0m\u001B[0;34m\u001B[0m\u001B[0;34m\u001B[0m\u001B[0m\n\u001B[1;32m    452\u001B[0m     )\n",
      "\u001B[0;32m~/.local/share/.pyenv/versions/3.8.3/envs/truespikes/lib/python3.8/site-packages/xarray/core/computation.py\u001B[0m in \u001B[0;36mapply_dict_of_variables_vfunc\u001B[0;34m(func, signature, join, fill_value, *args)\u001B[0m\n\u001B[1;32m    392\u001B[0m     \u001B[0mresult_vars\u001B[0m \u001B[0;34m=\u001B[0m \u001B[0;34m{\u001B[0m\u001B[0;34m}\u001B[0m\u001B[0;34m\u001B[0m\u001B[0;34m\u001B[0m\u001B[0m\n\u001B[1;32m    393\u001B[0m     \u001B[0;32mfor\u001B[0m \u001B[0mname\u001B[0m\u001B[0;34m,\u001B[0m \u001B[0mvariable_args\u001B[0m \u001B[0;32min\u001B[0m \u001B[0mzip\u001B[0m\u001B[0;34m(\u001B[0m\u001B[0mnames\u001B[0m\u001B[0;34m,\u001B[0m \u001B[0mgrouped_by_name\u001B[0m\u001B[0;34m)\u001B[0m\u001B[0;34m:\u001B[0m\u001B[0;34m\u001B[0m\u001B[0;34m\u001B[0m\u001B[0m\n\u001B[0;32m--> 394\u001B[0;31m         \u001B[0mresult_vars\u001B[0m\u001B[0;34m[\u001B[0m\u001B[0mname\u001B[0m\u001B[0;34m]\u001B[0m \u001B[0;34m=\u001B[0m \u001B[0mfunc\u001B[0m\u001B[0;34m(\u001B[0m\u001B[0;34m*\u001B[0m\u001B[0mvariable_args\u001B[0m\u001B[0;34m)\u001B[0m\u001B[0;34m\u001B[0m\u001B[0;34m\u001B[0m\u001B[0m\n\u001B[0m\u001B[1;32m    395\u001B[0m \u001B[0;34m\u001B[0m\u001B[0m\n\u001B[1;32m    396\u001B[0m     \u001B[0;32mif\u001B[0m \u001B[0msignature\u001B[0m\u001B[0;34m.\u001B[0m\u001B[0mnum_outputs\u001B[0m \u001B[0;34m>\u001B[0m \u001B[0;36m1\u001B[0m\u001B[0;34m:\u001B[0m\u001B[0;34m\u001B[0m\u001B[0;34m\u001B[0m\u001B[0m\n",
      "\u001B[0;32m~/.local/share/.pyenv/versions/3.8.3/envs/truespikes/lib/python3.8/site-packages/xarray/core/computation.py\u001B[0m in \u001B[0;36mapply_variable_ufunc\u001B[0;34m(func, signature, exclude_dims, dask, output_dtypes, vectorize, keep_attrs, dask_gufunc_kwargs, *args)\u001B[0m\n\u001B[1;32m    740\u001B[0m             )\n\u001B[1;32m    741\u001B[0m \u001B[0;34m\u001B[0m\u001B[0m\n\u001B[0;32m--> 742\u001B[0;31m     \u001B[0mresult_data\u001B[0m \u001B[0;34m=\u001B[0m \u001B[0mfunc\u001B[0m\u001B[0;34m(\u001B[0m\u001B[0;34m*\u001B[0m\u001B[0minput_data\u001B[0m\u001B[0;34m)\u001B[0m\u001B[0;34m\u001B[0m\u001B[0;34m\u001B[0m\u001B[0m\n\u001B[0m\u001B[1;32m    743\u001B[0m \u001B[0;34m\u001B[0m\u001B[0m\n\u001B[1;32m    744\u001B[0m     \u001B[0;32mif\u001B[0m \u001B[0msignature\u001B[0m\u001B[0;34m.\u001B[0m\u001B[0mnum_outputs\u001B[0m \u001B[0;34m==\u001B[0m \u001B[0;36m1\u001B[0m\u001B[0;34m:\u001B[0m\u001B[0;34m\u001B[0m\u001B[0;34m\u001B[0m\u001B[0m\n",
      "\u001B[0;32m~/.local/share/.pyenv/versions/3.8.3/envs/truespikes/lib/python3.8/site-packages/arviz/stats/stats_utils.py\u001B[0m in \u001B[0;36m_multi_ufunc\u001B[0;34m(out, out_shape, *args, **kwargs)\u001B[0m\n\u001B[1;32m    164\u001B[0m         \u001B[0;32mfor\u001B[0m \u001B[0midx\u001B[0m \u001B[0;32min\u001B[0m \u001B[0mnp\u001B[0m\u001B[0;34m.\u001B[0m\u001B[0mndindex\u001B[0m\u001B[0;34m(\u001B[0m\u001B[0melement_shape\u001B[0m\u001B[0;34m)\u001B[0m\u001B[0;34m:\u001B[0m\u001B[0;34m\u001B[0m\u001B[0;34m\u001B[0m\u001B[0m\n\u001B[1;32m    165\u001B[0m             \u001B[0marys_idx\u001B[0m \u001B[0;34m=\u001B[0m \u001B[0;34m[\u001B[0m\u001B[0mary\u001B[0m\u001B[0;34m[\u001B[0m\u001B[0midx\u001B[0m\u001B[0;34m]\u001B[0m\u001B[0;34m.\u001B[0m\u001B[0mravel\u001B[0m\u001B[0;34m(\u001B[0m\u001B[0;34m)\u001B[0m \u001B[0;32mif\u001B[0m \u001B[0mravel\u001B[0m \u001B[0;32melse\u001B[0m \u001B[0mary\u001B[0m\u001B[0;34m[\u001B[0m\u001B[0midx\u001B[0m\u001B[0;34m]\u001B[0m \u001B[0;32mfor\u001B[0m \u001B[0mary\u001B[0m \u001B[0;32min\u001B[0m \u001B[0marys\u001B[0m\u001B[0;34m]\u001B[0m\u001B[0;34m\u001B[0m\u001B[0;34m\u001B[0m\u001B[0m\n\u001B[0;32m--> 166\u001B[0;31m             \u001B[0mresults\u001B[0m \u001B[0;34m=\u001B[0m \u001B[0mfunc\u001B[0m\u001B[0;34m(\u001B[0m\u001B[0;34m*\u001B[0m\u001B[0marys_idx\u001B[0m\u001B[0;34m,\u001B[0m \u001B[0;34m*\u001B[0m\u001B[0margs\u001B[0m\u001B[0;34m[\u001B[0m\u001B[0mn_input\u001B[0m\u001B[0;34m:\u001B[0m\u001B[0;34m]\u001B[0m\u001B[0;34m,\u001B[0m \u001B[0;34m**\u001B[0m\u001B[0mkwargs\u001B[0m\u001B[0;34m)\u001B[0m\u001B[0;34m\u001B[0m\u001B[0;34m\u001B[0m\u001B[0m\n\u001B[0m\u001B[1;32m    167\u001B[0m             \u001B[0;32mfor\u001B[0m \u001B[0mi\u001B[0m\u001B[0;34m,\u001B[0m \u001B[0mres\u001B[0m \u001B[0;32min\u001B[0m \u001B[0menumerate\u001B[0m\u001B[0;34m(\u001B[0m\u001B[0mresults\u001B[0m\u001B[0;34m)\u001B[0m\u001B[0;34m:\u001B[0m\u001B[0;34m\u001B[0m\u001B[0;34m\u001B[0m\u001B[0m\n\u001B[1;32m    168\u001B[0m                 \u001B[0mout\u001B[0m\u001B[0;34m[\u001B[0m\u001B[0mi\u001B[0m\u001B[0;34m]\u001B[0m\u001B[0;34m[\u001B[0m\u001B[0midx\u001B[0m\u001B[0;34m]\u001B[0m \u001B[0;34m=\u001B[0m \u001B[0mnp\u001B[0m\u001B[0;34m.\u001B[0m\u001B[0masarray\u001B[0m\u001B[0;34m(\u001B[0m\u001B[0mres\u001B[0m\u001B[0;34m)\u001B[0m\u001B[0;34m[\u001B[0m\u001B[0mindex\u001B[0m\u001B[0;34m]\u001B[0m\u001B[0;34m\u001B[0m\u001B[0;34m\u001B[0m\u001B[0m\n",
      "\u001B[0;32m~/.local/share/.pyenv/versions/3.8.3/envs/truespikes/lib/python3.8/site-packages/arviz/stats/diagnostics.py\u001B[0m in \u001B[0;36m_multichain_statistics\u001B[0;34m(ary)\u001B[0m\n\u001B[1;32m    926\u001B[0m \u001B[0;34m\u001B[0m\u001B[0m\n\u001B[1;32m    927\u001B[0m     \u001B[0;31m# ess tail\u001B[0m\u001B[0;34m\u001B[0m\u001B[0;34m\u001B[0m\u001B[0;34m\u001B[0m\u001B[0m\n\u001B[0;32m--> 928\u001B[0;31m     \u001B[0mquantile05\u001B[0m\u001B[0;34m,\u001B[0m \u001B[0mquantile95\u001B[0m \u001B[0;34m=\u001B[0m \u001B[0m_quantile\u001B[0m\u001B[0;34m(\u001B[0m\u001B[0mary\u001B[0m\u001B[0;34m,\u001B[0m \u001B[0;34m[\u001B[0m\u001B[0;36m0.05\u001B[0m\u001B[0;34m,\u001B[0m \u001B[0;36m0.95\u001B[0m\u001B[0;34m]\u001B[0m\u001B[0;34m)\u001B[0m\u001B[0;34m\u001B[0m\u001B[0;34m\u001B[0m\u001B[0m\n\u001B[0m\u001B[1;32m    929\u001B[0m     \u001B[0miquantile05\u001B[0m \u001B[0;34m=\u001B[0m \u001B[0mary\u001B[0m \u001B[0;34m<=\u001B[0m \u001B[0mquantile05\u001B[0m\u001B[0;34m\u001B[0m\u001B[0;34m\u001B[0m\u001B[0m\n\u001B[1;32m    930\u001B[0m     \u001B[0mquantile05_ess\u001B[0m \u001B[0;34m=\u001B[0m \u001B[0m_ess\u001B[0m\u001B[0;34m(\u001B[0m\u001B[0m_split_chains\u001B[0m\u001B[0;34m(\u001B[0m\u001B[0miquantile05\u001B[0m\u001B[0;34m)\u001B[0m\u001B[0;34m)\u001B[0m\u001B[0;34m\u001B[0m\u001B[0;34m\u001B[0m\u001B[0m\n",
      "\u001B[0;32m~/.local/share/.pyenv/versions/3.8.3/envs/truespikes/lib/python3.8/site-packages/arviz/stats/stats_utils.py\u001B[0m in \u001B[0;36mquantile\u001B[0;34m(ary, q, axis, limit)\u001B[0m\n\u001B[1;32m    338\u001B[0m     \u001B[0;32mif\u001B[0m \u001B[0mlimit\u001B[0m \u001B[0;32mis\u001B[0m \u001B[0;32mNone\u001B[0m\u001B[0;34m:\u001B[0m\u001B[0;34m\u001B[0m\u001B[0;34m\u001B[0m\u001B[0m\n\u001B[1;32m    339\u001B[0m         \u001B[0mlimit\u001B[0m \u001B[0;34m=\u001B[0m \u001B[0mtuple\u001B[0m\u001B[0;34m(\u001B[0m\u001B[0;34m)\u001B[0m\u001B[0;34m\u001B[0m\u001B[0;34m\u001B[0m\u001B[0m\n\u001B[0;32m--> 340\u001B[0;31m     \u001B[0;32mreturn\u001B[0m \u001B[0mmquantiles\u001B[0m\u001B[0;34m(\u001B[0m\u001B[0mary\u001B[0m\u001B[0;34m,\u001B[0m \u001B[0mq\u001B[0m\u001B[0;34m,\u001B[0m \u001B[0malphap\u001B[0m\u001B[0;34m=\u001B[0m\u001B[0;36m1\u001B[0m\u001B[0;34m,\u001B[0m \u001B[0mbetap\u001B[0m\u001B[0;34m=\u001B[0m\u001B[0;36m1\u001B[0m\u001B[0;34m,\u001B[0m \u001B[0maxis\u001B[0m\u001B[0;34m=\u001B[0m\u001B[0maxis\u001B[0m\u001B[0;34m,\u001B[0m \u001B[0mlimit\u001B[0m\u001B[0;34m=\u001B[0m\u001B[0mlimit\u001B[0m\u001B[0;34m)\u001B[0m\u001B[0;34m\u001B[0m\u001B[0;34m\u001B[0m\u001B[0m\n\u001B[0m\u001B[1;32m    341\u001B[0m \u001B[0;34m\u001B[0m\u001B[0m\n\u001B[1;32m    342\u001B[0m \u001B[0;34m\u001B[0m\u001B[0m\n",
      "\u001B[0;32m~/.local/share/.pyenv/versions/3.8.3/envs/truespikes/lib/python3.8/site-packages/scipy/stats/mstats_basic.py\u001B[0m in \u001B[0;36mmquantiles\u001B[0;34m(a, prob, alphap, betap, axis, limit)\u001B[0m\n\u001B[1;32m   2780\u001B[0m     \u001B[0;31m# Computes quantiles along axis (or globally)\u001B[0m\u001B[0;34m\u001B[0m\u001B[0;34m\u001B[0m\u001B[0;34m\u001B[0m\u001B[0m\n\u001B[1;32m   2781\u001B[0m     \u001B[0;32mif\u001B[0m \u001B[0;34m(\u001B[0m\u001B[0maxis\u001B[0m \u001B[0;32mis\u001B[0m \u001B[0;32mNone\u001B[0m\u001B[0;34m)\u001B[0m\u001B[0;34m:\u001B[0m\u001B[0;34m\u001B[0m\u001B[0;34m\u001B[0m\u001B[0m\n\u001B[0;32m-> 2782\u001B[0;31m         \u001B[0;32mreturn\u001B[0m \u001B[0m_quantiles1D\u001B[0m\u001B[0;34m(\u001B[0m\u001B[0mdata\u001B[0m\u001B[0;34m,\u001B[0m \u001B[0mm\u001B[0m\u001B[0;34m,\u001B[0m \u001B[0mp\u001B[0m\u001B[0;34m)\u001B[0m\u001B[0;34m\u001B[0m\u001B[0;34m\u001B[0m\u001B[0m\n\u001B[0m\u001B[1;32m   2783\u001B[0m \u001B[0;34m\u001B[0m\u001B[0m\n\u001B[1;32m   2784\u001B[0m     \u001B[0;32mreturn\u001B[0m \u001B[0mma\u001B[0m\u001B[0;34m.\u001B[0m\u001B[0mapply_along_axis\u001B[0m\u001B[0;34m(\u001B[0m\u001B[0m_quantiles1D\u001B[0m\u001B[0;34m,\u001B[0m \u001B[0maxis\u001B[0m\u001B[0;34m,\u001B[0m \u001B[0mdata\u001B[0m\u001B[0;34m,\u001B[0m \u001B[0mm\u001B[0m\u001B[0;34m,\u001B[0m \u001B[0mp\u001B[0m\u001B[0;34m)\u001B[0m\u001B[0;34m\u001B[0m\u001B[0;34m\u001B[0m\u001B[0m\n",
      "\u001B[0;32m~/.local/share/.pyenv/versions/3.8.3/envs/truespikes/lib/python3.8/site-packages/scipy/stats/mstats_basic.py\u001B[0m in \u001B[0;36m_quantiles1D\u001B[0;34m(data, m, p)\u001B[0m\n\u001B[1;32m   2757\u001B[0m     \"\"\"\n\u001B[1;32m   2758\u001B[0m     \u001B[0;32mdef\u001B[0m \u001B[0m_quantiles1D\u001B[0m\u001B[0;34m(\u001B[0m\u001B[0mdata\u001B[0m\u001B[0;34m,\u001B[0m\u001B[0mm\u001B[0m\u001B[0;34m,\u001B[0m\u001B[0mp\u001B[0m\u001B[0;34m)\u001B[0m\u001B[0;34m:\u001B[0m\u001B[0;34m\u001B[0m\u001B[0;34m\u001B[0m\u001B[0m\n\u001B[0;32m-> 2759\u001B[0;31m         \u001B[0mx\u001B[0m \u001B[0;34m=\u001B[0m \u001B[0mnp\u001B[0m\u001B[0;34m.\u001B[0m\u001B[0msort\u001B[0m\u001B[0;34m(\u001B[0m\u001B[0mdata\u001B[0m\u001B[0;34m.\u001B[0m\u001B[0mcompressed\u001B[0m\u001B[0;34m(\u001B[0m\u001B[0;34m)\u001B[0m\u001B[0;34m)\u001B[0m\u001B[0;34m\u001B[0m\u001B[0;34m\u001B[0m\u001B[0m\n\u001B[0m\u001B[1;32m   2760\u001B[0m         \u001B[0mn\u001B[0m \u001B[0;34m=\u001B[0m \u001B[0mlen\u001B[0m\u001B[0;34m(\u001B[0m\u001B[0mx\u001B[0m\u001B[0;34m)\u001B[0m\u001B[0;34m\u001B[0m\u001B[0;34m\u001B[0m\u001B[0m\n\u001B[1;32m   2761\u001B[0m         \u001B[0;32mif\u001B[0m \u001B[0mn\u001B[0m \u001B[0;34m==\u001B[0m \u001B[0;36m0\u001B[0m\u001B[0;34m:\u001B[0m\u001B[0;34m\u001B[0m\u001B[0;34m\u001B[0m\u001B[0m\n",
      "\u001B[0;32m<__array_function__ internals>\u001B[0m in \u001B[0;36msort\u001B[0;34m(*args, **kwargs)\u001B[0m\n",
      "\u001B[0;32m~/.local/share/.pyenv/versions/3.8.3/envs/truespikes/lib/python3.8/site-packages/numpy/core/fromnumeric.py\u001B[0m in \u001B[0;36msort\u001B[0;34m(a, axis, kind, order)\u001B[0m\n\u001B[1;32m    994\u001B[0m     \u001B[0;32melse\u001B[0m\u001B[0;34m:\u001B[0m\u001B[0;34m\u001B[0m\u001B[0;34m\u001B[0m\u001B[0m\n\u001B[1;32m    995\u001B[0m         \u001B[0ma\u001B[0m \u001B[0;34m=\u001B[0m \u001B[0masanyarray\u001B[0m\u001B[0;34m(\u001B[0m\u001B[0ma\u001B[0m\u001B[0;34m)\u001B[0m\u001B[0;34m.\u001B[0m\u001B[0mcopy\u001B[0m\u001B[0;34m(\u001B[0m\u001B[0morder\u001B[0m\u001B[0;34m=\u001B[0m\u001B[0;34m\"K\"\u001B[0m\u001B[0;34m)\u001B[0m\u001B[0;34m\u001B[0m\u001B[0;34m\u001B[0m\u001B[0m\n\u001B[0;32m--> 996\u001B[0;31m     \u001B[0ma\u001B[0m\u001B[0;34m.\u001B[0m\u001B[0msort\u001B[0m\u001B[0;34m(\u001B[0m\u001B[0maxis\u001B[0m\u001B[0;34m=\u001B[0m\u001B[0maxis\u001B[0m\u001B[0;34m,\u001B[0m \u001B[0mkind\u001B[0m\u001B[0;34m=\u001B[0m\u001B[0mkind\u001B[0m\u001B[0;34m,\u001B[0m \u001B[0morder\u001B[0m\u001B[0;34m=\u001B[0m\u001B[0morder\u001B[0m\u001B[0;34m)\u001B[0m\u001B[0;34m\u001B[0m\u001B[0;34m\u001B[0m\u001B[0m\n\u001B[0m\u001B[1;32m    997\u001B[0m     \u001B[0;32mreturn\u001B[0m \u001B[0ma\u001B[0m\u001B[0;34m\u001B[0m\u001B[0;34m\u001B[0m\u001B[0m\n\u001B[1;32m    998\u001B[0m \u001B[0;34m\u001B[0m\u001B[0m\n",
      "\u001B[0;31mKeyboardInterrupt\u001B[0m: "
     ]
    }
   ],
   "source": [
    "varying_weights_and_bias_idata = az.summary(semipooled_idata)"
   ]
  },
  {
   "cell_type": "code",
   "execution_count": null,
   "metadata": {
    "pycharm": {
     "name": "#%%\n"
    }
   },
   "outputs": [],
   "source": [
    "varying_weights_and_bias_idata"
   ]
  },
  {
   "cell_type": "code",
   "execution_count": null,
   "metadata": {
    "pycharm": {
     "name": "#%%\n"
    }
   },
   "outputs": [],
   "source": [
    "# az.plot_trace(semipooled_idata)\n",
    "# plt.savefig('/home/mclancy/truespikes/figures/model_selection/bayesian_linear_regression/semipooled_traces.pdf')\n",
    "\n",
    "az.plot_trace(\n",
    "    varying_weights_and_bias_idata.posterior['weights'][4, :, :1000],\n",
    "    var_names=[\"~z\", \"~chol\"],\n",
    "    lines=[(\"chol_corr\", {}, 0.0)],\n",
    "    compact=True,\n",
    "    chain_prop={\"ls\": \"-\"},\n",
    ")\n",
    "plt.savefig('/home/mclancy/truespikes/figures/model_selection/bayesian_linear_regression/varying_weights_and_bias_traces.png')"
   ]
  },
  {
   "cell_type": "code",
   "execution_count": null,
   "metadata": {
    "pycharm": {
     "name": "#%%\n"
    }
   },
   "outputs": [],
   "source": [
    "#Checking convergence in multiple dimensions is possible by checking similarity between marginal energy and proposed energy by sampler\n",
    "az.plot_energy(varying_weights_and_bias_idata)\n",
    "# az.plot_energy(semipooled_idata)"
   ]
  },
  {
   "cell_type": "code",
   "execution_count": null,
   "metadata": {},
   "outputs": [],
   "source": [
    "\n",
    "y_preds = [sample_pred.mean() for sample_pred in (1 / (np.exp(-ppc['y']) + 1)).T]\n",
    "\n",
    "\n",
    "zeros = np.ones(shape=y_test.shape[0])\n",
    "baseline_rmse = np.sqrt(mean_squared_error((1 / (np.exp(-y_test) + 1)), zeros))\n",
    "\n",
    "rmse = np.sqrt(mean_squared_error(inverse_logit_transform(y_test), inverse_logit_transform(y_preds)))\n",
    "\n",
    "print(baseline_rmse)\n",
    "print(rmse)"
   ]
  }
 ],
 "metadata": {
  "kernelspec": {
   "display_name": "Python 3",
   "language": "python",
   "name": "python3"
  },
  "language_info": {
   "codemirror_mode": {
    "name": "ipython",
    "version": 3
   },
   "file_extension": ".py",
   "mimetype": "text/x-python",
   "name": "python",
   "nbconvert_exporter": "python",
   "pygments_lexer": "ipython3",
   "version": "3.8.3"
  }
 },
 "nbformat": 4,
 "nbformat_minor": 1
}