{
 "cells": [
  {
   "cell_type": "code",
   "execution_count": 1,
   "outputs": [],
   "source": [
    "import matplotlib.pyplot as plt\n",
    "import numpy as np\n",
    "import pymc3 as pm\n",
    "import seaborn\n",
    "\n",
    "from sklearn import preprocessing\n",
    "from sklearn.model_selection import train_test_split\n",
    "from models import build_heirarchical_logistic_regression_model\n",
    "from utils import get_study_metrics_data\n"
   ],
   "metadata": {
    "collapsed": false,
    "pycharm": {
     "name": "#%%\n"
    }
   }
  },
  {
   "cell_type": "code",
   "execution_count": 2,
   "outputs": [],
   "source": [
    "#studies_to_exclude = ['neurocube_quiroga_easy2', 'synth_mearec_neuronexus_noise10_K20_C32', 'neurocube_quiroga_easy1', 'neurocube_quiroga_difficult1', 'mea_c30', 'paired_monotrode_boyden32c', 'neurocube_sim2_11K20', 'paired_monotrode_mea64c', 'paired_english', 'synth_mearec_neuronexus_noise20_K40_C32', 'neurocube_quiroga_difficult2', 'paired_crcns', 'paired_monotrode_kampff', 'synth_mearec_neuronexus_noise20_K20_C32', 'synth_mearec_neuronexus_noise20_K10_C32', 'paired_kampff', 'paired_monotrode_crcns', 'synth_mearec_neuronexus_noise10_K10_C32', 'neurocube_sim2_2K10', 'paired_boyden32c', 'paired_mea64c', 'synth_mearec_neuronexus_noise10_K40_C32']\n",
    "#ALL_AVAILABLE_STUDY_SETS=['HYBRID_JANELIA', 'LONG_DRIFT', 'LONG_STATIC', 'MANUAL_FRANKLAB', 'PAIRED_BOYDEN', 'PAIRED_CRCNS_HC1', 'PAIRED_ENGLISH', 'PAIRED_KAMPFF', 'PAIRED_MEA64C_YGER', 'PAIRED_MONOTRODE', 'SYNTH_BIONET', 'SYNTH_MAGLAND', 'SYNTH_MEAREC_NEURONEXUS', 'SYNTH_MEAREC_TETRODE', 'SYNTH_MONOTRODE', 'SYNTH_VISAPY']\n",
    "#STUDY_NAMES = [study_name for study_set_name in ['HYBRID_JANELIA', 'LONG_STATIC', 'SYNTH_MAGLAND', 'SYNTH_MEAREC_TETRODE'] for study_name in SFStudySet.load(study_set_name).get_study_names() if study_name not in studies_to_exclude]\n",
    "\n",
    "\n",
    "STUDY_NAMES = ['hybrid_static_tetrode', 'hybrid_static_siprobe',\n",
    "               'LONG_STATIC_1200s_8c', 'LONG_STATIC_600s_8c', 'LONG_STATIC_300s_16c', 'LONG_STATIC_4800s_16c',\n",
    "               'LONG_STATIC_300s_8c', 'LONG_STATIC_2400s_8c', 'LONG_STATIC_2400s_16c', 'LONG_STATIC_600s_16c',\n",
    "               'LONG_STATIC_1200s_16c', 'LONG_STATIC_4800s_8c', 'synth_magland_noise20_K20_C8',\n",
    "               'synth_magland_noise10_K10_C4', 'synth_magland_noise10_K10_C8', 'synth_magland_noise20_K10_C4',\n",
    "               'synth_magland_noise20_K20_C4', 'synth_magland_noise20_K10_C8', 'synth_magland_noise10_K20_C8',\n",
    "               'synth_magland_noise10_K20_C4', 'synth_mearec_tetrode_noise10_K20_C4', 'synth_mearec_tetrode_noise10_K10_C4',\n",
    "               'synth_mearec_tetrode_noise20_K10_C4', 'synth_mearec_tetrode_noise20_K20_C4']\n",
    "\n",
    "STATIC_SIPROBE_STUDY_NAMES = ['hybrid_static_siprobe', 'LONG_STATIC_1200s_8c', 'LONG_STATIC_600s_8c', 'LONG_STATIC_300s_16c',\n",
    "                       'LONG_STATIC_4800s_16c', 'LONG_STATIC_300s_8c', 'LONG_STATIC_2400s_8c', 'LONG_STATIC_2400s_16c',\n",
    "                       'LONG_STATIC_600s_16c', 'LONG_STATIC_1200s_16c', 'LONG_STATIC_4800s_8c',]\n",
    "\n",
    "STATIC_TETRODE_STUDY_NAMES = ['hybrid_static_tetrode', 'synth_magland_noise20_K20_C8', 'synth_magland_noise10_K10_C4',\n",
    "                       'synth_magland_noise10_K10_C8', 'synth_magland_noise20_K10_C4', 'synth_magland_noise20_K20_C4',\n",
    "                       'synth_magland_noise20_K10_C8', 'synth_magland_noise10_K20_C8', 'synth_magland_noise10_K20_C4',\n",
    "                       'synth_mearec_tetrode_noise10_K20_C4', 'synth_mearec_tetrode_noise10_K10_C4',\n",
    "                       'synth_mearec_tetrode_noise20_K10_C4', 'synth_mearec_tetrode_noise20_K20_C4']\n",
    "\n",
    "METRIC_NAMES = [ \"firing_rate\", \"presence_ratio\", \"isi_violation\",\n",
    "                 \"amplitude_cutoff\", \"snr\", \"max_drift\", \"cumulative_drift\",\n",
    "                 \"silhouette_score\", \"isolation_distance\", \"l_ratio\",\n",
    "                 \"nn_hit_rate\", \"nn_miss_rate\", \"d_prime\"]\n",
    "\n",
    "SORTER_NAMES = ['herdingspikes2', 'ironclust', 'jrclust',\n",
    "               'kilosort', 'kilosort2', 'klusta', 'mountainsort4',\n",
    "               'spykingcircus', 'tridesclous']\n",
    "\n",
    "# SORTER_NAMES = ['ironclust', 'jrclust',\n",
    "#                 'kilosort2', 'klusta', 'mountainsort4',\n",
    "#                 'spykingcircus', 'tridesclous']\n",
    "\n",
    "RANDOM_STATE = 0\n",
    "P_VALUE = 0.01\n"
   ],
   "metadata": {
    "collapsed": false,
    "pycharm": {
     "name": "#%%\n"
    }
   }
  },
  {
   "cell_type": "code",
   "execution_count": 3,
   "outputs": [],
   "source": [
    "static_tetrode_metric_data = get_study_metrics_data(\n",
    "        study_names=STATIC_TETRODE_STUDY_NAMES,\n",
    "        metric_names=METRIC_NAMES,\n",
    "        random_state=RANDOM_STATE,\n",
    "        sorter_names=SORTER_NAMES,\n",
    "        # include_meta=True,\n",
    "    ).dropna(axis=0)\n"
   ],
   "metadata": {
    "collapsed": false,
    "pycharm": {
     "name": "#%%\n"
    }
   }
  },
  {
   "cell_type": "code",
   "execution_count": 4,
   "outputs": [
    {
     "data": {
      "text/plain": "       firing_rate  presence_ratio  isi_violation  amplitude_cutoff  \\\ncount  8931.000000     8931.000000    8931.000000       8931.000000   \nmean      3.653587        0.950386       0.887240          0.041703   \nstd       5.294491        0.159769       7.183826          0.087653   \nmin       0.020000        0.080000       0.000000          0.000862   \n25%       1.694167        1.000000       0.000000          0.000863   \n50%       2.321667        1.000000       0.000000          0.001597   \n75%       2.727500        1.000000       0.246448          0.042307   \nmax      57.316667        1.000000     382.319832          0.500000   \n\n               snr    max_drift  cumulative_drift  silhouette_score  \\\ncount  8931.000000  8931.000000       8931.000000       8931.000000   \nmean      8.826013     0.316307          1.264957          0.295213   \nstd       4.807893     0.934494          4.161793          0.180365   \nmin       0.277371     0.000000          0.000000         -0.267501   \n25%       5.409529     0.050000          0.160000          0.155312   \n50%       7.756750     0.090000          0.310000          0.290345   \n75%      11.219166     0.190000          0.610000          0.420786   \nmax      43.737469    20.910000        110.080000          0.892608   \n\n       isolation_distance      l_ratio  nn_hit_rate  nn_miss_rate      d_prime  \ncount        8.931000e+03  8931.000000  8931.000000   8931.000000  8931.000000  \nmean         5.294524e+08     0.321338     0.853053      0.009678     4.848100  \nstd          3.639233e+10     1.147361     0.198849      0.017653     3.085005  \nmin          2.322603e+00     0.000000     0.019608      0.000000     0.573542  \n25%          2.883715e+01     0.000035     0.790399      0.001111     2.808032  \n50%          5.685787e+01     0.016245     0.953333      0.003464     4.041141  \n75%          1.203576e+02     0.239969     0.984444      0.011741     5.923032  \nmax          3.210292e+12    27.095045     1.000000      0.593870    51.583097  ",
      "text/html": "<div>\n<style scoped>\n    .dataframe tbody tr th:only-of-type {\n        vertical-align: middle;\n    }\n\n    .dataframe tbody tr th {\n        vertical-align: top;\n    }\n\n    .dataframe thead th {\n        text-align: right;\n    }\n</style>\n<table border=\"1\" class=\"dataframe\">\n  <thead>\n    <tr style=\"text-align: right;\">\n      <th></th>\n      <th>firing_rate</th>\n      <th>presence_ratio</th>\n      <th>isi_violation</th>\n      <th>amplitude_cutoff</th>\n      <th>snr</th>\n      <th>max_drift</th>\n      <th>cumulative_drift</th>\n      <th>silhouette_score</th>\n      <th>isolation_distance</th>\n      <th>l_ratio</th>\n      <th>nn_hit_rate</th>\n      <th>nn_miss_rate</th>\n      <th>d_prime</th>\n    </tr>\n  </thead>\n  <tbody>\n    <tr>\n      <th>count</th>\n      <td>8931.000000</td>\n      <td>8931.000000</td>\n      <td>8931.000000</td>\n      <td>8931.000000</td>\n      <td>8931.000000</td>\n      <td>8931.000000</td>\n      <td>8931.000000</td>\n      <td>8931.000000</td>\n      <td>8.931000e+03</td>\n      <td>8931.000000</td>\n      <td>8931.000000</td>\n      <td>8931.000000</td>\n      <td>8931.000000</td>\n    </tr>\n    <tr>\n      <th>mean</th>\n      <td>3.653587</td>\n      <td>0.950386</td>\n      <td>0.887240</td>\n      <td>0.041703</td>\n      <td>8.826013</td>\n      <td>0.316307</td>\n      <td>1.264957</td>\n      <td>0.295213</td>\n      <td>5.294524e+08</td>\n      <td>0.321338</td>\n      <td>0.853053</td>\n      <td>0.009678</td>\n      <td>4.848100</td>\n    </tr>\n    <tr>\n      <th>std</th>\n      <td>5.294491</td>\n      <td>0.159769</td>\n      <td>7.183826</td>\n      <td>0.087653</td>\n      <td>4.807893</td>\n      <td>0.934494</td>\n      <td>4.161793</td>\n      <td>0.180365</td>\n      <td>3.639233e+10</td>\n      <td>1.147361</td>\n      <td>0.198849</td>\n      <td>0.017653</td>\n      <td>3.085005</td>\n    </tr>\n    <tr>\n      <th>min</th>\n      <td>0.020000</td>\n      <td>0.080000</td>\n      <td>0.000000</td>\n      <td>0.000862</td>\n      <td>0.277371</td>\n      <td>0.000000</td>\n      <td>0.000000</td>\n      <td>-0.267501</td>\n      <td>2.322603e+00</td>\n      <td>0.000000</td>\n      <td>0.019608</td>\n      <td>0.000000</td>\n      <td>0.573542</td>\n    </tr>\n    <tr>\n      <th>25%</th>\n      <td>1.694167</td>\n      <td>1.000000</td>\n      <td>0.000000</td>\n      <td>0.000863</td>\n      <td>5.409529</td>\n      <td>0.050000</td>\n      <td>0.160000</td>\n      <td>0.155312</td>\n      <td>2.883715e+01</td>\n      <td>0.000035</td>\n      <td>0.790399</td>\n      <td>0.001111</td>\n      <td>2.808032</td>\n    </tr>\n    <tr>\n      <th>50%</th>\n      <td>2.321667</td>\n      <td>1.000000</td>\n      <td>0.000000</td>\n      <td>0.001597</td>\n      <td>7.756750</td>\n      <td>0.090000</td>\n      <td>0.310000</td>\n      <td>0.290345</td>\n      <td>5.685787e+01</td>\n      <td>0.016245</td>\n      <td>0.953333</td>\n      <td>0.003464</td>\n      <td>4.041141</td>\n    </tr>\n    <tr>\n      <th>75%</th>\n      <td>2.727500</td>\n      <td>1.000000</td>\n      <td>0.246448</td>\n      <td>0.042307</td>\n      <td>11.219166</td>\n      <td>0.190000</td>\n      <td>0.610000</td>\n      <td>0.420786</td>\n      <td>1.203576e+02</td>\n      <td>0.239969</td>\n      <td>0.984444</td>\n      <td>0.011741</td>\n      <td>5.923032</td>\n    </tr>\n    <tr>\n      <th>max</th>\n      <td>57.316667</td>\n      <td>1.000000</td>\n      <td>382.319832</td>\n      <td>0.500000</td>\n      <td>43.737469</td>\n      <td>20.910000</td>\n      <td>110.080000</td>\n      <td>0.892608</td>\n      <td>3.210292e+12</td>\n      <td>27.095045</td>\n      <td>1.000000</td>\n      <td>0.593870</td>\n      <td>51.583097</td>\n    </tr>\n  </tbody>\n</table>\n</div>"
     },
     "execution_count": 4,
     "metadata": {},
     "output_type": "execute_result"
    }
   ],
   "source": [
    "X_train, X_test, y_train, y_test = train_test_split(static_tetrode_metric_data.drop(columns=['fp']),\n",
    "                                                    static_tetrode_metric_data['fp'], test_size=0.2, random_state=RANDOM_STATE)\n",
    "X_train.describe()"
   ],
   "metadata": {
    "collapsed": false,
    "pycharm": {
     "name": "#%%\n"
    }
   }
  },
  {
   "cell_type": "code",
   "execution_count": 5,
   "outputs": [],
   "source": [
    "standard_scalar = preprocessing.StandardScaler()\n",
    "X_train = standard_scalar.fit_transform(X_train)\n",
    "X_test = standard_scalar.transform(X_test)"
   ],
   "metadata": {
    "collapsed": false,
    "pycharm": {
     "name": "#%%\n"
    }
   }
  },
  {
   "cell_type": "code",
   "execution_count": 6,
   "outputs": [
    {
     "ename": "NameError",
     "evalue": "name 'get_lr_model' is not defined",
     "output_type": "error",
     "traceback": [
      "\u001B[0;31m---------------------------------------------------------------------------\u001B[0m",
      "\u001B[0;31mNameError\u001B[0m                                 Traceback (most recent call last)",
      "\u001B[0;32m/tmp/ipykernel_24998/1472504099.py\u001B[0m in \u001B[0;36m<module>\u001B[0;34m\u001B[0m\n\u001B[0;32m----> 1\u001B[0;31m \u001B[0mlr_model\u001B[0m \u001B[0;34m=\u001B[0m \u001B[0mget_lr_model\u001B[0m\u001B[0;34m(\u001B[0m\u001B[0mX_train\u001B[0m\u001B[0;34m,\u001B[0m \u001B[0my_train\u001B[0m\u001B[0;34m)\u001B[0m\u001B[0;34m\u001B[0m\u001B[0;34m\u001B[0m\u001B[0m\n\u001B[0m\u001B[1;32m      2\u001B[0m \u001B[0;31m#%\u001B[0m\u001B[0;34m\u001B[0m\u001B[0;34m\u001B[0m\u001B[0;34m\u001B[0m\u001B[0m\n\u001B[1;32m      3\u001B[0m \u001B[0;32mwith\u001B[0m \u001B[0mlr_model\u001B[0m\u001B[0;34m:\u001B[0m\u001B[0;34m\u001B[0m\u001B[0;34m\u001B[0m\u001B[0m\n\u001B[1;32m      4\u001B[0m     \u001B[0mtrace\u001B[0m \u001B[0;34m=\u001B[0m \u001B[0mpm\u001B[0m\u001B[0;34m.\u001B[0m\u001B[0msample\u001B[0m\u001B[0;34m(\u001B[0m\u001B[0mreturn_inferencedata\u001B[0m\u001B[0;34m=\u001B[0m\u001B[0;32mTrue\u001B[0m\u001B[0;34m)\u001B[0m\u001B[0;34m\u001B[0m\u001B[0;34m\u001B[0m\u001B[0m\n\u001B[1;32m      5\u001B[0m     \u001B[0mprior_checks\u001B[0m \u001B[0;34m=\u001B[0m \u001B[0mpm\u001B[0m\u001B[0;34m.\u001B[0m\u001B[0msample_prior_predictive\u001B[0m\u001B[0;34m(\u001B[0m\u001B[0mtrace\u001B[0m\u001B[0;34m,\u001B[0m \u001B[0mrandom_seed\u001B[0m\u001B[0;34m=\u001B[0m\u001B[0mRANDOM_STATE\u001B[0m\u001B[0;34m)\u001B[0m\u001B[0;34m\u001B[0m\u001B[0;34m\u001B[0m\u001B[0m\n",
      "\u001B[0;31mNameError\u001B[0m: name 'get_lr_model' is not defined"
     ]
    }
   ],
   "source": [
    "lr_model = get_lr_model(X_train, y_train)\n",
    "#%\n",
    "with lr_model:\n",
    "    trace = pm.sample(return_inferencedata=True)\n",
    "    prior_checks = pm.sample_prior_predictive(trace, random_seed=RANDOM_STATE)\n",
    "\n",
    "\n",
    "with lr_model:\n",
    "\n",
    "    # change the value and shape of the data\n",
    "    pm.set_data(\n",
    "        {\n",
    "            \"lr_input\": X_test,\n",
    "            # use dummy values with the same shape:\n",
    "            \"lr_output\": y_test,\n",
    "        }\n",
    "    )\n",
    "\n",
    "    post_pred = pm.sample_posterior_predictive(trace.posterior)"
   ],
   "metadata": {
    "collapsed": false,
    "pycharm": {
     "name": "#%%\n"
    }
   }
  },
  {
   "cell_type": "code",
   "execution_count": null,
   "outputs": [],
   "source": [
    "from sklearn.metrics import f1_score\n",
    "\n",
    "y_preds = [np.argmax(np.bincount(sample_pred)) for sample_pred in post_pred['out'].T]\n",
    "f1_score(y_test, y_preds)"
   ],
   "metadata": {
    "collapsed": false,
    "pycharm": {
     "name": "#%%\n"
    }
   }
  },
  {
   "cell_type": "code",
   "execution_count": 9,
   "outputs": [
    {
     "name": "stderr",
     "output_type": "stream",
     "text": [
      "/home/mclancy/.local/share/.pyenv/versions/3.8.3/envs/truespikes/lib/python3.8/site-packages/theano/tensor/basic.py:369: DeprecationWarning: `np.complex` is a deprecated alias for the builtin `complex`. To silence this warning, use `complex` by itself. Doing this will not modify any behavior and is safe. If you specifically wanted the numpy scalar type, use `np.complex128` here.\n",
      "Deprecated in NumPy 1.20; for more details and guidance: https://numpy.org/devdocs/release/1.20.0-notes.html#deprecations\n",
      "  np.complex(data)  # works for all numeric scalars\n",
      "Auto-assigning NUTS sampler...\n",
      "Initializing NUTS using jitter+adapt_diag...\n",
      "Multiprocess sampling (4 chains in 4 jobs)\n",
      "NUTS: [bias, weights, bias_sigma, bias_mu, weights_sigma, weights_mu]\n",
      "Sampling 4 chains for 1_000 tune and 1_000 draw iterations (4_000 + 4_000 draws total) took 29 seconds.\n",
      "There were 65 divergences after tuning. Increase `target_accept` or reparameterize.\n",
      "There were 76 divergences after tuning. Increase `target_accept` or reparameterize.\n",
      "There were 125 divergences after tuning. Increase `target_accept` or reparameterize.\n",
      "There were 36 divergences after tuning. Increase `target_accept` or reparameterize.\n",
      "The number of effective samples is smaller than 10% for some parameters.\n"
     ]
    },
    {
     "data": {
      "text/plain": "<IPython.core.display.HTML object>",
      "text/html": "\n    <div>\n        <style>\n            /* Turns off some styling */\n            progress {\n                /* gets rid of default border in Firefox and Opera. */\n                border: none;\n                /* Needs to be in here for Safari polyfill so background images work as expected. */\n                background-size: auto;\n            }\n            .progress-bar-interrupted, .progress-bar-interrupted::-webkit-progress-bar {\n                background: #F44336;\n            }\n        </style>\n      <progress value='0' class='' max='8000' style='width:300px; height:20px; vertical-align: middle;'></progress>\n      \n    </div>\n    "
     },
     "metadata": {},
     "output_type": "display_data"
    },
    {
     "data": {
      "text/plain": "<IPython.core.display.HTML object>",
      "text/html": "\n    <div>\n        <style>\n            /* Turns off some styling */\n            progress {\n                /* gets rid of default border in Firefox and Opera. */\n                border: none;\n                /* Needs to be in here for Safari polyfill so background images work as expected. */\n                background-size: auto;\n            }\n            .progress-bar-interrupted, .progress-bar-interrupted::-webkit-progress-bar {\n                background: #F44336;\n            }\n        </style>\n      <progress value='0' class='' max='4000' style='width:300px; height:20px; vertical-align: middle;'></progress>\n      \n    </div>\n    "
     },
     "metadata": {},
     "output_type": "display_data"
    }
   ],
   "source": [
    "lr_model = build_heirarchical_logistic_regression_model(X_train, y_train)\n",
    "\n",
    "with lr_model:\n",
    "    trace = pm.sample(return_inferencedata=True)\n",
    "\n",
    "    # change the value and shape of the data\n",
    "    pm.set_data(\n",
    "        {\n",
    "            \"X_observed\": X_test,\n",
    "            # use dummy values with the same shape:\n",
    "            \"y_observed\": y_test,\n",
    "        }\n",
    "    )\n",
    "\n",
    "    post_pred = pm.sample_posterior_predictive(trace.posterior)"
   ],
   "metadata": {
    "collapsed": false,
    "pycharm": {
     "name": "#%%\n"
    }
   }
  },
  {
   "cell_type": "code",
   "execution_count": 11,
   "outputs": [
    {
     "data": {
      "text/plain": "0.7983074753173484"
     },
     "execution_count": 11,
     "metadata": {},
     "output_type": "execute_result"
    }
   ],
   "source": [
    "from sklearn.metrics import f1_score\n",
    "\n",
    "y_preds = [np.argmax(np.bincount(sample_pred)) for sample_pred in post_pred['y'].T]\n",
    "f1_score(y_test, y_preds)"
   ],
   "metadata": {
    "collapsed": false,
    "pycharm": {
     "name": "#%%\n"
    }
   }
  },
  {
   "cell_type": "code",
   "execution_count": null,
   "outputs": [],
   "source": [
    "plt.figure(figsize=(9, 7))\n",
    "seaborn.jointplot(trace[\"firing_rate\"], trace[\"isolation_distance\"], kind=\"hex\", color=\"#4CB391\")\n",
    "plt.xlabel(\"beta_firing_rate\")\n",
    "plt.ylabel(\"beta_snr\");\n",
    "\n",
    "#"
   ],
   "metadata": {
    "collapsed": false,
    "pycharm": {
     "name": "#%%\n"
    }
   }
  }
 ],
 "metadata": {
  "kernelspec": {
   "display_name": "Python 3",
   "language": "python",
   "name": "python3"
  },
  "language_info": {
   "codemirror_mode": {
    "name": "ipython",
    "version": 2
   },
   "file_extension": ".py",
   "mimetype": "text/x-python",
   "name": "python",
   "nbconvert_exporter": "python",
   "pygments_lexer": "ipython2",
   "version": "2.7.6"
  }
 },
 "nbformat": 4,
 "nbformat_minor": 0
}