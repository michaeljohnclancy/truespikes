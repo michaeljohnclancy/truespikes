{
 "cells": [
  {
   "cell_type": "code",
   "execution_count": 2,
   "outputs": [],
   "source": [
    "from pathlib import Path\n",
    "from utils import parse_sf_results\n",
    "import kachery_client as kc\n",
    "import sortingview as sv\n",
    "import matplotlib.pyplot as plt\n",
    "import os\n"
   ],
   "metadata": {
    "collapsed": false,
    "pycharm": {
     "name": "#%%\n"
    }
   }
  },
  {
   "cell_type": "code",
   "execution_count": 3,
   "outputs": [],
   "source": [
    "models_path = Path('models')\n",
    "models_path.mkdir(exist_ok=True)"
   ],
   "metadata": {
    "collapsed": false,
    "pycharm": {
     "name": "#%%\n"
    }
   }
  },
  {
   "cell_type": "code",
   "execution_count": null,
   "outputs": [],
   "source": [
    "# Load in the data from the sf url\n",
    "khash = 'sha1://b3444629251cafda919af535f0e9837279151c6e/spikeforest-full-gt-qm.json?manifest=cf73c99d06c11e328e635e14dc24b8db7372db3d'\n",
    "sf_data = kc.load_json(khash)"
   ],
   "metadata": {
    "collapsed": false,
    "pycharm": {
     "name": "#%%\n"
    }
   }
  },
  {
   "cell_type": "code",
   "execution_count": null,
   "outputs": [],
   "source": [
    "available_studies = set([entry['studyName'] for entry in sf_data])"
   ],
   "metadata": {
    "collapsed": false,
    "pycharm": {
     "name": "#%%\n"
    }
   }
  },
  {
   "cell_type": "code",
   "execution_count": 21,
   "outputs": [],
   "source": [
    "# Exclude paired, neurocube, neuronexus and mea_c30\n",
    "studies_to_exclude = set([entry['studyName'] for entry in sf_data if 'paired' in entry['studyName']\n",
    "                               or 'neuronexus' in entry['studyName'] or 'neurocube' in entry['studyName']] + ['mea_c30'])"
   ],
   "metadata": {
    "collapsed": false,
    "pycharm": {
     "name": "#%%\n"
    }
   }
  },
  {
   "cell_type": "code",
   "execution_count": 22,
   "outputs": [],
   "source": [
    "filtered_studies = list(available_studies - studies_to_exclude)"
   ],
   "metadata": {
    "collapsed": false,
    "pycharm": {
     "name": "#%%\n"
    }
   }
  },
  {
   "cell_type": "code",
   "execution_count": 29,
   "outputs": [],
   "source": [
    "khash = 'sha1://3848cc3165e6486181771651a5d933b75d14ba08/shuffle_8x_B_2B.json'\n",
    "sf_data = kc.load_json(khash)\n",
    "\n",
    "recording = sv.LabboxEphysRecordingExtractor(sf_data, download=False)"
   ],
   "metadata": {
    "collapsed": false,
    "pycharm": {
     "name": "#%%"
    }
   }
  },
  {
   "cell_type": "code",
   "execution_count": 30,
   "outputs": [
    {
     "data": {
      "text/plain": "array([[ 16.,   0.],\n       [ 48.,   0.],\n       [ 16.,  20.],\n       [ 48.,  20.],\n       [ 16.,  40.],\n       [ 48.,  40.],\n       [ 16.,  60.],\n       [ 48.,  60.],\n       [ 16.,  80.],\n       [ 48.,  80.],\n       [ 16., 100.],\n       [ 48., 100.],\n       [ 16., 120.],\n       [ 48., 120.],\n       [ 16., 140.],\n       [ 48., 140.],\n       [ 16., 160.],\n       [ 48., 160.],\n       [ 16., 180.],\n       [ 48., 180.],\n       [ 16., 200.],\n       [ 48., 200.],\n       [ 16., 220.],\n       [ 48., 220.],\n       [ 16., 240.],\n       [ 48., 240.],\n       [ 16., 260.],\n       [ 48., 260.],\n       [ 16., 280.],\n       [ 48., 280.],\n       [ 16., 300.],\n       [ 48., 300.],\n       [ 16., 320.],\n       [ 48., 320.],\n       [ 16., 340.],\n       [ 48., 340.],\n       [ 16., 360.],\n       [ 48., 360.],\n       [ 16., 380.],\n       [ 48., 380.],\n       [ 16., 400.],\n       [ 48., 400.],\n       [ 16., 420.],\n       [ 48., 420.],\n       [ 16., 440.],\n       [ 48., 440.],\n       [ 16., 460.],\n       [ 48., 460.],\n       [ 16., 480.],\n       [ 48., 480.],\n       [ 16., 500.],\n       [ 48., 500.],\n       [ 16., 520.],\n       [ 48., 520.],\n       [ 16., 540.],\n       [ 48., 540.],\n       [ 16., 560.],\n       [ 48., 560.],\n       [ 16., 580.],\n       [ 48., 580.]])"
     },
     "execution_count": 30,
     "metadata": {},
     "output_type": "execute_result"
    }
   ],
   "source": [
    "recording.get_channel_locations()"
   ],
   "metadata": {
    "collapsed": false,
    "pycharm": {
     "name": "#%%\n"
    }
   }
  },
  {
   "cell_type": "code",
   "execution_count": 7,
   "outputs": [],
   "source": [
    "shuffle_bionet_recording = sv.LabboxEphysRecordingExtractor(kc.load_json('sha1://3848cc3165e6486181771651a5d933b75d14ba08/shuffle_8x_B_2B.json'), download=False)\n",
    "static_bionet_recording = sv.LabboxEphysRecordingExtractor(kc.load_json('sha1://3848cc3165e6486181771651a5d933b75d14ba08/static_8x_B_2B.json'), download=False)\n",
    "drift_bionet_recording = sv.LabboxEphysRecordingExtractor(kc.load_json('sha1://3848cc3165e6486181771651a5d933b75d14ba08/drift_8x_B_2B.json'), download=False)\n",
    "\n",
    "hybrid_janelia_drift_siprobe = sv.LabboxEphysRecordingExtractor(kc.load_json('sha1://9e3f6a8ea55cbb718903bb45e750f22387f3e2e8/rec_16c_1200s_11.json'), download=False)"
   ],
   "metadata": {
    "collapsed": false,
    "pycharm": {
     "name": "#%%\n"
    }
   }
  },
  {
   "cell_type": "code",
   "execution_count": 5,
   "outputs": [],
   "source": [
    "def plot_channel_locations(recording: sv.LabboxEphysRecordingExtractor, title=None, output=None):\n",
    "    fig, ax = plt.subplots()\n",
    "    x, y = zip(*list(recording.get_channel_locations()))\n",
    "    ax.scatter(x, y)\n",
    "    if title is not None:\n",
    "        fig.suptitle(title)\n",
    "    if output is not None:\n",
    "        plt.savefig(output)\n"
   ],
   "metadata": {
    "collapsed": false,
    "pycharm": {
     "name": "#%%\n"
    }
   }
  },
  {
   "cell_type": "code",
   "execution_count": 44,
   "outputs": [
    {
     "data": {
      "text/plain": "<Figure size 432x288 with 1 Axes>",
      "image/png": "[encoded data removed]"
     },
     "metadata": {
      "needs_background": "light"
     },
     "output_type": "display_data"
    },
    {
     "data": {
      "text/plain": "<Figure size 432x288 with 1 Axes>",
      "image/png": "[encoded data removed]"
     },
     "metadata": {
      "needs_background": "light"
     },
     "output_type": "display_data"
    }
   ],
   "source": [
    "plot_channel_locations(shuffle_bionet_recording, title='Shuffle bionet', output='tasks/data_cleaning/bionet_probe_geometry.pdf')\n",
    "plot_channel_locations(hybrid_janelia_drift_siprobe, title='Drift hybrid janelia', output='tasks/data_cleaning/hybrid_janelia_probe_geometry.pdf')"
   ],
   "metadata": {
    "collapsed": false,
    "pycharm": {
     "name": "#%%\n"
    }
   }
  },
  {
   "cell_type": "code",
   "execution_count": 8,
   "outputs": [
    {
     "data": {
      "text/plain": "<Figure size 432x288 with 1 Axes>",
      "image/png": "[encoded data removed]"
     },
     "metadata": {
      "needs_background": "light"
     },
     "output_type": "display_data"
    }
   ],
   "source": [
    "plot_channel_locations(static_bionet_recording, title='Static bionet')\n"
   ],
   "metadata": {
    "collapsed": false,
    "pycharm": {
     "name": "#%%\n"
    }
   }
  },
  {
   "cell_type": "code",
   "execution_count": null,
   "outputs": [],
   "source": [],
   "metadata": {
    "collapsed": false,
    "pycharm": {
     "name": "#%%\n"
    }
   }
  }
 ],
 "metadata": {
  "kernelspec": {
   "display_name": "Python 3",
   "language": "python",
   "name": "python3"
  },
  "language_info": {
   "codemirror_mode": {
    "name": "ipython",
    "version": 2
   },
   "file_extension": ".py",
   "mimetype": "text/x-python",
   "name": "python",
   "nbconvert_exporter": "python",
   "pygments_lexer": "ipython2",
   "version": "2.7.6"
  }
 },
 "nbformat": 4,
 "nbformat_minor": 0
}