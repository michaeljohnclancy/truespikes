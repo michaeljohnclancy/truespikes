{
 "cells": [
  {
   "cell_type": "code",
   "execution_count": 0,
   "outputs": [],
   "source": [],
   "metadata": {
    "collapsed": false,
    "pycharm": {
     "name": "#%%\n"
    }
   }
  },
  {
   "cell_type": "markdown",
   "source": [
    "An SFStudySet can be fetched via its name (e.g. HYBRID_JANELIA) and the names of studies inside this set can be browsed.\n",
    "A study can then be fetched via its name."
   ],
   "metadata": {
    "collapsed": false
   }
  },
  {
   "cell_type": "code",
   "execution_count": 1,
   "outputs": [
    {
     "name": "stdout",
     "output_type": "stream",
     "text": [
      "Studies inside this study set: ['hybrid_drift_siprobe', 'hybrid_static_tetrode', 'hybrid_static_siprobe', 'hybrid_drift_tetrode']\n"
     ]
    }
   ],
   "source": [
    "from sf_utils import SFStudySet\n",
    "\n",
    "study_set = SFStudySet.load('HYBRID_JANELIA')\n",
    "\n",
    "print(\"Studies inside this study set: \" + str(study_set.get_study_names()))\n",
    "\n",
    "study = study_set.get_study('hybrid_drift_siprobe')"
   ],
   "metadata": {
    "collapsed": false,
    "pycharm": {
     "name": "#%%\n"
    }
   }
  },
  {
   "cell_type": "markdown",
   "source": [
    "An SFStudy object can also be fetched directly given a study set name and a study name. The names of the available recordings\n",
    "in the study can then be browsed."
   ],
   "metadata": {
    "collapsed": false,
    "pycharm": {
     "name": "#%% md\n"
    }
   }
  },
  {
   "cell_type": "code",
   "execution_count": 2,
   "outputs": [
    {
     "name": "stdout",
     "output_type": "stream",
     "text": [
      "Recordings inside this study: ['rec_16c_1200s_11', 'rec_16c_1200s_21', 'rec_16c_1200s_31', 'rec_16c_600s_11', 'rec_16c_600s_12', 'rec_16c_600s_21', 'rec_16c_600s_22', 'rec_16c_600s_31', 'rec_16c_600s_32', 'rec_32c_1200s_11', 'rec_32c_1200s_21', 'rec_32c_1200s_31', 'rec_32c_600s_11', 'rec_32c_600s_12', 'rec_32c_600s_21', 'rec_32c_600s_22', 'rec_32c_600s_31', 'rec_32c_600s_32', 'rec_64c_1200s_11', 'rec_64c_600s_11', 'rec_64c_600s_12']\n"
     ]
    }
   ],
   "source": [
    "from sf_utils import SFStudy\n",
    "study_direct = SFStudy.load('HYBRID_JANElIA', 'hybrid_drift_siprobe')\n",
    "\n",
    "print(\"Recordings inside this study: \" + str(study.get_recording_names()))"
   ],
   "metadata": {
    "collapsed": false,
    "pycharm": {
     "name": "#%%\n"
    }
   }
  },
  {
   "cell_type": "markdown",
   "source": [
    "An SFRecording, consisting of relevant information for the recording, the raw recording, the ground truth spike train,\n",
    "and all available sortings, can then be fetched. Again, this recording set can be accessed directly."
   ],
   "metadata": {
    "collapsed": false,
    "pycharm": {
     "name": "#%% md\n"
    }
   }
  },
  {
   "cell_type": "code",
   "execution_count": 3,
   "outputs": [],
   "source": [
    "from sf_utils import SFRecording\n",
    "\n",
    "recording = study.get_recording('rec_16c_1200s_11')\n",
    "recordingdirect = SFRecording.load('HYBRID_JANELIA', 'hybrid_drift_siprobe', 'rec_16c_1200s_11')"
   ],
   "metadata": {
    "collapsed": false,
    "pycharm": {
     "name": "#%%\n"
    }
   }
  },
  {
   "cell_type": "markdown",
   "source": [
    "The raw recording, ground truth, and any available SFSorting can then be fetched like so:"
   ],
   "metadata": {
    "collapsed": false,
    "pycharm": {
     "name": "#%% md\n"
    }
   }
  },
  {
   "cell_type": "code",
   "source": [
    "recording_extractor = recording.get_recording_extractor(download=False)\n",
    "ground_truth = recording.get_ground_truth()\n",
    "sorting = recording.get_sorting('herdingspikes2')\n"
   ],
   "metadata": {
    "collapsed": false,
    "pycharm": {
     "name": "#%%\n"
    }
   },
   "execution_count": 4,
   "outputs": []
  },
  {
   "cell_type": "markdown",
   "source": [
    "An SFSorting provides the ability to retrieve any sorting and\n",
    "any associated precomputed metrics/ground truth comparison data available through spikeforest.\n",
    "The sorting can be accessed like above, or can be retrieved directly via SFSorting's 'load' method."
   ],
   "metadata": {
    "collapsed": false,
    "pycharm": {
     "name": "#%% md\n"
    }
   }
  },
  {
   "cell_type": "code",
   "execution_count": 8,
   "outputs": [
    {
     "name": "stdout",
     "output_type": "stream",
     "text": [
      "    num_spikes  firing_rate  presence_ratio  isi_violation  amplitude_cutoff  \\\n",
      "0        17535    14.612500            1.00       0.076301          0.032652   \n",
      "1        11027     9.189167            1.00       0.026613          0.000869   \n",
      "2        11810     9.841667            1.00       0.078303          0.026254   \n",
      "3         5546     4.621667            0.98       0.013151          0.000952   \n",
      "4         7572     6.310000            1.00       0.070549          0.000863   \n",
      "5         4814     4.011667            1.00       0.698459          0.000863   \n",
      "6         4513     3.760833            0.90       0.119161          0.000863   \n",
      "7         7962     6.635000            1.00       0.076568          0.058152   \n",
      "8         4628     3.856667            1.00       0.000000          0.109389   \n",
      "9         3694     3.078333            0.79       0.504200          0.000863   \n",
      "10        4337     3.614167            1.00       0.193542          0.028630   \n",
      "11        4835     4.029167            0.95       4.211576          0.000863   \n",
      "12        8090     6.741667            1.00       0.105067          0.287603   \n",
      "13        3212     2.676667            1.00       0.117620          0.000869   \n",
      "14        2619     2.182500            0.66       0.413115          0.000863   \n",
      "15        4908     4.090000            1.00       0.218296          0.171442   \n",
      "16        2272     1.893333            0.87       2.115727          0.000863   \n",
      "17        2584     2.153333            1.00       0.060674          0.000863   \n",
      "18        2275     1.895833            0.80       0.000000          0.015539   \n",
      "19        1847     1.539167            0.66       0.000000          0.000863   \n",
      "20         720     0.600000            0.52       0.000000          0.057939   \n",
      "21        1076     0.896667            0.72       1.397488          0.153281   \n",
      "22        2149     1.790833            1.00       0.087587          0.131478   \n",
      "23        1065     0.887500            0.88       0.356626          0.000863   \n",
      "24        1996     1.663333            1.00       0.203059          0.500000   \n",
      "25        1468     1.223333            1.00       0.000000          0.150233   \n",
      "26        1105     0.920833            0.97       0.000000          0.033700   \n",
      "27        1547     1.289167            1.00       0.507053          0.102648   \n",
      "28         461     0.384167            0.97       0.000000          0.434316   \n",
      "29         632     0.526667            1.00       0.000000          0.111588   \n",
      "30         144     0.120000            0.77       0.000000          0.001797   \n",
      "31         972     0.810000            1.00       0.000000          0.432601   \n",
      "32         704     0.586667            0.89       1.632289          0.000865   \n",
      "33         194     0.161667            0.85       0.000000          0.069888   \n",
      "\n",
      "          snr  max_drift  cumulative_drift  silhouette_score  \\\n",
      "0    8.094000       8.38             25.88          0.098014   \n",
      "1   13.490000       4.94             20.86          0.189588   \n",
      "2   13.827250       2.28             11.34          0.171778   \n",
      "3   21.246750       2.66              9.01          0.247688   \n",
      "4    9.105750      13.14             29.52          0.184505   \n",
      "5    9.443000       3.70             14.43          0.189588   \n",
      "6   20.572250       3.99             11.86          0.259223   \n",
      "7    9.780250       2.95              9.03          0.121184   \n",
      "8   13.490000       4.57             13.80          0.222580   \n",
      "9   19.054625       7.34             25.81          0.231288   \n",
      "10   7.419500      12.37             45.63          0.081147   \n",
      "11  16.525250       5.60             17.25          0.259223   \n",
      "12   6.407750      10.94             35.94          0.074408   \n",
      "13  12.815500       9.72             24.40          0.183938   \n",
      "14  18.211500       4.41             12.75          0.231288   \n",
      "15   6.070500       5.84             21.02          0.087382   \n",
      "16  20.909500       9.95             30.07          0.262273   \n",
      "17  19.223250       7.82             30.30          0.249483   \n",
      "18  15.850750       4.56             12.79          0.241318   \n",
      "19  17.874250       8.63             30.87          0.249483   \n",
      "20  17.537000       1.35              3.30          0.282063   \n",
      "21  16.188000       9.62             25.78          0.189330   \n",
      "22   6.070500      14.70             30.08          0.053670   \n",
      "23  15.344875       7.46             23.17          0.189330   \n",
      "24   2.698000      14.50             50.68          0.036461   \n",
      "25   2.698000      17.78             27.49          0.016383   \n",
      "26  15.176250      11.86             48.23          0.241318   \n",
      "27   5.058750      12.38             19.98          0.013528   \n",
      "28   5.058750      14.23             63.10         -0.002579   \n",
      "29   2.360750      19.01             67.03          0.008937   \n",
      "30   5.058750       6.42              0.00         -0.002579   \n",
      "31  11.129250      21.76             67.53          0.059605   \n",
      "32   8.431250      12.97             40.51          0.184713   \n",
      "33   4.721500       8.85             22.39          0.026143   \n",
      "\n",
      "    isolation_distance   l_ratio   d_prime  nn_hit_rate  nn_miss_rate  \n",
      "0            55.266720  0.241560  3.291582     0.810000      0.009028  \n",
      "1            59.956264  0.152759  4.599143     0.927778      0.003402  \n",
      "2            48.668872  0.465527  3.151707     0.834444      0.009126  \n",
      "3            60.554484  0.173952  3.843339     0.911111      0.004578  \n",
      "4            48.233798  0.444242  3.247672     0.858889      0.004125  \n",
      "5            65.742850  0.113273  4.117110     0.891111      0.003190  \n",
      "6            62.531663  0.205823  4.671157     0.873333      0.003777  \n",
      "7            54.783587  0.303732  3.901768     0.804444      0.010990  \n",
      "8            71.240561  0.217025  5.329389     0.884444      0.004883  \n",
      "9           105.572931  0.079292  6.239339     0.918889      0.002899  \n",
      "10           46.667431  0.564434  2.071589     0.692222      0.017014  \n",
      "11           61.412741  0.228943  3.610524     0.825556      0.006638  \n",
      "12           45.688294  0.649116  2.941866     0.713333      0.011807  \n",
      "13           54.618362  0.224616  3.652090     0.845556      0.007831  \n",
      "14          105.158858  0.066381  5.230835     0.913333      0.003317  \n",
      "15           49.268388  0.474389  2.370339     0.646667      0.017368  \n",
      "16           90.908797  0.113273  4.970775     0.927778      0.003487  \n",
      "17           79.453258  0.122739  5.108392     0.921111      0.004710  \n",
      "18           63.243939  0.169605  4.094408     0.855556      0.007163  \n",
      "19           96.358654  0.109465  5.433015     0.925556      0.002404  \n",
      "20           80.292459  0.115043  5.060951     0.917778      0.002213  \n",
      "21          112.771453  0.074468  6.101420     0.933333      0.003729  \n",
      "22           40.117673  1.065448  2.179179     0.562222      0.012856  \n",
      "23           43.153377  0.798998  2.978283     0.802222      0.005656  \n",
      "24           36.019254  1.636347  1.799238     0.301111      0.028947  \n",
      "25           36.530616  1.556218  1.771437     0.345556      0.026200  \n",
      "26           41.742122  0.981943  2.177182     0.706667      0.010156  \n",
      "27           42.177756  0.860491  1.566626     0.722222      0.008506  \n",
      "28           39.429933  1.069061  1.962047     0.490000      0.018997  \n",
      "29           36.463580  1.615929  1.705007     0.418889      0.019506  \n",
      "30           40.438183  1.073484  2.385426     0.358796      0.009632  \n",
      "31           44.297156  0.755245  2.224934     0.447778      0.024983  \n",
      "32           30.371704  2.748235  1.788533     0.592222      0.009766  \n",
      "33           41.180507  0.942799  2.023732     0.441581      0.015152  \n",
      "           0         1         2         3         4         5         6  \\\n",
      "1   0.005569  0.003486  0.002497  0.002726  0.616102  0.002458  0.001083   \n",
      "2   0.001008  0.000648  0.000762  0.000582  0.000900  0.001141  0.000686   \n",
      "3   0.004206  0.003781  0.003783  0.002898  0.003373  0.002351  0.002826   \n",
      "4   0.003579  0.002689  0.424906  0.002849  0.001800  0.001053  0.002211   \n",
      "5   0.001458  0.131370  0.001058  0.000884  0.009431  0.024779  0.001162   \n",
      "..       ...       ...       ...       ...       ...       ...       ...   \n",
      "70  0.004076  0.003235  0.003502  0.002442  0.003121  0.002426  0.002029   \n",
      "71  0.004258  0.003338  0.003501  0.002119  0.002704  0.002159  0.002575   \n",
      "72  0.004889  0.004169  0.004201  0.002419  0.003253  0.002586  0.001959   \n",
      "73  0.004567  0.003272  0.003671  0.002662  0.002934  0.001607  0.001570   \n",
      "74  0.002491  0.001938  0.002266  0.001710  0.002472  0.001224  0.000947   \n",
      "\n",
      "           7         8         9  ...        24        25        26        27  \\\n",
      "1   0.003577  0.001815  0.002081  ...  0.001878  0.002391  0.000176  0.001186   \n",
      "2   0.000646  0.001345  0.001396  ...  0.000301  0.000716  0.000000  0.000000   \n",
      "3   0.002386  0.002382  0.001948  ...  0.001115  0.000359  0.000928  0.000446   \n",
      "4   0.001764  0.001504  0.002199  ...  0.001501  0.004546  0.001125  0.000854   \n",
      "5   0.000677  0.000571  0.000659  ...  0.001143  0.000520  0.000287  0.120650   \n",
      "..       ...       ...       ...  ...       ...       ...       ...       ...   \n",
      "70  0.002748  0.002310  0.001360  ...  0.000925  0.000583  0.000908  0.004262   \n",
      "71  0.003762  0.001531  0.002113  ...  0.001171  0.001325  0.000881  0.000281   \n",
      "72  0.003037  0.002494  0.002708  ...  0.001301  0.001052  0.000386  0.000896   \n",
      "73  0.003617  0.001912  0.001212  ...  0.000434  0.001002  0.000659  0.000724   \n",
      "74  0.002087  0.002186  0.001959  ...  0.001861  0.000309  0.000492  0.000458   \n",
      "\n",
      "          28        29        30        31        32        33  \n",
      "1   0.000746  0.000459  0.000096  0.000801  0.001186  0.000287  \n",
      "2   0.000000  0.000511  0.000000  0.000435  0.000000  0.000000  \n",
      "3   0.000296  0.000485  0.000204  0.000752  0.000482  0.000304  \n",
      "4   0.000254  0.004612  0.000174  0.000568  0.000332  0.000173  \n",
      "5   0.000000  0.000000  0.000000  0.000895  0.000000  0.000000  \n",
      "..       ...       ...       ...       ...       ...       ...  \n",
      "70  0.001727  0.000423  0.000446  0.000511  0.000841  0.000555  \n",
      "71  0.000209  0.000513  0.000324  0.000695  0.000408  0.000215  \n",
      "72  0.000325  0.000320  0.000083  0.001015  0.000319  0.000166  \n",
      "73  0.000602  0.000000  0.000207  0.000859  0.000489  0.000000  \n",
      "74  0.000366  0.000000  0.000194  0.000838  0.000351  0.000193  \n",
      "\n",
      "[74 rows x 34 columns]\n"
     ]
    }
   ],
   "source": [
    "sorting_extractor = sorting.get_sorting_extractor()\n",
    "metrics = sorting.get_metrics()\n",
    "print(metrics)\n",
    "agreement_scores = sorting.get_agreement_scores()\n",
    "print(agreement_scores)\n",
    "best_match_12 = sorting.get_best_match_12()\n",
    "best_match_21 = sorting.get_best_match_21()"
   ],
   "metadata": {
    "collapsed": false,
    "pycharm": {
     "name": "#%%\n"
    }
   }
  },
  {
   "cell_type": "markdown",
   "source": [
    "### Extra examples\n",
    "Can access all recordings in a study and retrieve only the ground truth and the sorting output of 'herdingspikes2'\n",
    "(truncated with [:1] just for example):"
   ],
   "metadata": {
    "collapsed": false
   }
  },
  {
   "cell_type": "code",
   "execution_count": 9,
   "outputs": [],
   "source": [
    "from sf_utils import SFStudy\n",
    "\n",
    "study = SFStudy.load('HYBRID_JANELIA', 'hybrid_drift_siprobe')\n",
    "\n",
    "herdingspikes2_gt_pairs = {}\n",
    "for recording_set in study.get_recordings()[:3]:\n",
    "    herdingspikes2_gt_pairs[recording_set.name] = (recording_set.get_ground_truth(), recording_set.get_sorting('herdingspikes2').get_sorting_extractor())"
   ],
   "metadata": {
    "collapsed": false,
    "pycharm": {
     "name": "#%%\n"
    }
   }
  },
  {
   "cell_type": "code",
   "execution_count": null,
   "outputs": [],
   "source": [],
   "metadata": {
    "collapsed": false,
    "pycharm": {
     "name": "#%%\n"
    }
   }
  }
 ],
 "metadata": {
  "kernelspec": {
   "display_name": "Python 3",
   "language": "python",
   "name": "python3"
  },
  "language_info": {
   "codemirror_mode": {
    "name": "ipython",
    "version": 2
   },
   "file_extension": ".py",
   "mimetype": "text/x-python",
   "name": "python",
   "nbconvert_exporter": "python",
   "pygments_lexer": "ipython2",
   "version": "2.7.6"
  }
 },
 "nbformat": 4,
 "nbformat_minor": 0
}