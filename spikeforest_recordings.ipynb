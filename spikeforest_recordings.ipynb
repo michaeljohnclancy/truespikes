{
 "cells": [
  {
   "cell_type": "code",
   "execution_count": 1,
   "metadata": {
    "collapsed": true
   },
   "outputs": [],
   "source": [
    "from spikeforest_recordings_utils import get_kachery_recording_gt_path_pairs_for_study_set, get_labbox_ephys_extractors\n",
    "names = ['HYBRID_JANELIA', 'LONG_DRIFT', 'LONG_STATIC', 'MANUAL_FRANKLAB', 'PAIRED_BOYDEN', 'PAIRED_CRCNS_HC1', 'PAIRED_ENGLISH', 'PAIRED_KAMPFF', 'PAIRED_MEA64C_YGER', 'PAIRED_MONOTRODE', 'SYNTH_BIONET', 'SYNTH_MAGLAND', 'SYNTH_MEAREC_NEURONEXUS', 'SYNTH_MEAREC_TETRODE', 'SYNTH_MONOTRODE', 'SYNTH_VISAPY']"
   ]
  },
  {
   "cell_type": "code",
   "execution_count": 43,
   "outputs": [],
   "source": [
    "recording_gt_pairs = get_kachery_recording_gt_path_pairs_for_study_set('LONG_STATIC')"
   ],
   "metadata": {
    "collapsed": false,
    "pycharm": {
     "name": "#%%\n"
    }
   }
  },
  {
   "cell_type": "code",
   "execution_count": 2,
   "outputs": [
    {
     "name": "stdout",
     "output_type": "stream",
     "text": [
      "Loaded 3324817 of 10000000 bytes (33.2 %): sha1://86341ab7149c87bd531dadf34e77c5469ada8b6a?chunkOf=ced10b1c71f7cd1527bd19b95ca2cf10f269c222~0~10000000\n",
      "Loaded 5062656 of 10000000 bytes (50.6 %): sha1://86341ab7149c87bd531dadf34e77c5469ada8b6a?chunkOf=ced10b1c71f7cd1527bd19b95ca2cf10f269c222~0~10000000\n",
      "Loaded 7454720 of 10000000 bytes (74.5 %): sha1://86341ab7149c87bd531dadf34e77c5469ada8b6a?chunkOf=ced10b1c71f7cd1527bd19b95ca2cf10f269c222~0~10000000\n",
      "Loaded 9453568 of 10000000 bytes (94.5 %): sha1://86341ab7149c87bd531dadf34e77c5469ada8b6a?chunkOf=ced10b1c71f7cd1527bd19b95ca2cf10f269c222~0~10000000\n",
      "Loaded 10000000 of 10000000 bytes (100.0 %): sha1://86341ab7149c87bd531dadf34e77c5469ada8b6a?chunkOf=ced10b1c71f7cd1527bd19b95ca2cf10f269c222~0~10000000\n",
      "Loaded file: sha1://86341ab7149c87bd531dadf34e77c5469ada8b6a?chunkOf=ced10b1c71f7cd1527bd19b95ca2cf10f269c222~0~10000000\n"
     ]
    }
   ],
   "source": [
    "labbox_extractors = get_labbox_ephys_extractors(study_set_name='LONG_STATIC', sub_study_name='LONG_STATIC_600s_16c', recording_name='004_synth')\n"
   ],
   "metadata": {
    "collapsed": false,
    "pycharm": {
     "name": "#%%\n"
    }
   }
  },
  {
   "cell_type": "code",
   "execution_count": null,
   "outputs": [],
   "source": [
    "#LabboxEphysRecordingExtractor('spikeforest_recordings/recordings/HYBRID_JANELIA/hybrid_drift_siprobe/rec_16c_600s_11.json', download=False)"
   ],
   "metadata": {
    "collapsed": false,
    "pycharm": {
     "name": "#%%\n"
    }
   }
  }
 ],
 "metadata": {
  "kernelspec": {
   "display_name": "Python 3",
   "language": "python",
   "name": "python3"
  },
  "language_info": {
   "codemirror_mode": {
    "name": "ipython",
    "version": 2
   },
   "file_extension": ".py",
   "mimetype": "text/x-python",
   "name": "python",
   "nbconvert_exporter": "python",
   "pygments_lexer": "ipython2",
   "version": "2.7.6"
  }
 },
 "nbformat": 4,
 "nbformat_minor": 0
}