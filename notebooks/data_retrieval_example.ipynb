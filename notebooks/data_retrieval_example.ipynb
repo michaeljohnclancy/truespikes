{
 "cells": [
  {
   "cell_type": "code",
   "execution_count": 0,
   "metadata": {
    "collapsed": true
   },
   "outputs": [],
   "source": []
  },
  {
   "cell_type": "markdown",
   "source": [
    "A study set can be fetched via its name (e.g. HYBRID_JANELIA) and the names of studies inside this set can be browsed.\n",
    "A study can then be fetched via its name."
   ],
   "metadata": {
    "collapsed": false
   }
  },
  {
   "cell_type": "code",
   "execution_count": 1,
   "outputs": [
    {
     "name": "stdout",
     "output_type": "stream",
     "text": [
      "Studies inside this study set: ['hybrid_drift_siprobe', 'hybrid_static_tetrode', 'hybrid_static_siprobe', 'hybrid_drift_tetrode']\n"
     ]
    }
   ],
   "source": [
    "from spikeforest_recordings_utils import StudySet\n",
    "\n",
    "study_set = StudySet.load('HYBRID_JANELIA')\n",
    "\n",
    "print(\"Studies inside this study set: \" + str(study_set.get_study_names()))\n",
    "\n",
    "study = study_set.get_study('hybrid_drift_siprobe')"
   ],
   "metadata": {
    "collapsed": false,
    "pycharm": {
     "name": "#%%\n"
    }
   }
  },
  {
   "cell_type": "markdown",
   "source": [
    "A study can also be fetched directly given a study set name and a study name. The names of the available recordings\n",
    "in the study can then be browsed."
   ],
   "metadata": {
    "collapsed": false,
    "pycharm": {
     "name": "#%% md\n"
    }
   }
  },
  {
   "cell_type": "code",
   "execution_count": 7,
   "outputs": [
    {
     "name": "stdout",
     "output_type": "stream",
     "text": [
      "Recordings inside this study: ['rec_16c_1200s_11', 'rec_16c_1200s_21', 'rec_16c_1200s_31', 'rec_16c_600s_11', 'rec_16c_600s_12', 'rec_16c_600s_21', 'rec_16c_600s_22', 'rec_16c_600s_31', 'rec_16c_600s_32', 'rec_32c_1200s_11', 'rec_32c_1200s_21', 'rec_32c_1200s_31', 'rec_32c_600s_11', 'rec_32c_600s_12', 'rec_32c_600s_21', 'rec_32c_600s_22', 'rec_32c_600s_31', 'rec_32c_600s_32', 'rec_64c_1200s_11', 'rec_64c_600s_11', 'rec_64c_600s_12']\n"
     ]
    }
   ],
   "source": [
    "from spikeforest_recordings_utils import Study\n",
    "study_direct = Study.load('HYBRID_JANElIA', 'hybrid_drift_siprobe')\n",
    "\n",
    "print(\"Recordings inside this study: \" + str(study.get_recording_names()))"
   ],
   "metadata": {
    "collapsed": false,
    "pycharm": {
     "name": "#%%\n"
    }
   }
  },
  {
   "cell_type": "markdown",
   "source": [
    "A recording set, consisting of relevant information for the recording, the raw recording, the ground truth spike train,\n",
    "and all available sortings, can then be fetched. Again, this recording set can be accessed directly."
   ],
   "metadata": {
    "collapsed": false,
    "pycharm": {
     "name": "#%% md\n"
    }
   }
  },
  {
   "cell_type": "code",
   "execution_count": 3,
   "outputs": [],
   "source": [
    "from spikeforest_recordings_utils import RecordingSet\n",
    "\n",
    "recording_set = study.get_recording_set('rec_16c_1200s_11')\n",
    "recording_set_direct = RecordingSet.load('HYBRID_JANELIA', 'hybrid_drift_siprobe', 'rec_16c_1200s_11')"
   ],
   "metadata": {
    "collapsed": false,
    "pycharm": {
     "name": "#%%\n"
    }
   }
  },
  {
   "cell_type": "markdown",
   "source": [
    "The raw recording, ground truth, and some sorting can then be fetched like so:"
   ],
   "metadata": {
    "collapsed": false,
    "pycharm": {
     "name": "#%% md\n"
    }
   }
  },
  {
   "cell_type": "code",
   "source": [
    "recording = recording_set.get_recording(download=False)\n",
    "ground_truth = recording_set.get_ground_truth()\n",
    "sorting = recording_set.get_sorting('herdingspikes2')\n"
   ],
   "metadata": {
    "collapsed": false,
    "pycharm": {
     "name": "#%%\n"
    }
   },
   "execution_count": 4,
   "outputs": []
  },
  {
   "cell_type": "markdown",
   "source": [
    "### Extra examples\n",
    "Can access all recording sets in a study and retrieve only the ground truth and the sorting output of 'herdingspikes2'\n",
    "(truncated with [:1] just for example):"
   ],
   "metadata": {
    "collapsed": false,
    "pycharm": {
     "name": "#%% md\n"
    }
   }
  },
  {
   "cell_type": "code",
   "execution_count": 9,
   "outputs": [],
   "source": [
    "study = Study.load('HYBRID_JANElIA', 'hybrid_drift_siprobe')\n",
    "\n",
    "herdingspikes2_gt_pairs = {}\n",
    "for recording_set in study.get_recording_sets()[:1]:\n",
    "    herdingspikes2_gt_pairs[recording_set.name] = (recording_set.get_ground_truth(), recording_set.get_sorting('herdingspikes2'))"
   ],
   "metadata": {
    "collapsed": false,
    "pycharm": {
     "name": "#%%\n"
    }
   }
  }
 ],
 "metadata": {
  "kernelspec": {
   "display_name": "Python 3",
   "language": "python",
   "name": "python3"
  },
  "language_info": {
   "codemirror_mode": {
    "name": "ipython",
    "version": 2
   },
   "file_extension": ".py",
   "mimetype": "text/x-python",
   "name": "python",
   "nbconvert_exporter": "python",
   "pygments_lexer": "ipython2",
   "version": "2.7.6"
  }
 },
 "nbformat": 4,
 "nbformat_minor": 0
}