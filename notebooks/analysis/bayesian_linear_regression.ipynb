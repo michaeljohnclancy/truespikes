{
 "cells": [
  {
   "cell_type": "code",
   "execution_count": 14,
   "metadata": {
    "collapsed": true
   },
   "outputs": [
    {
     "name": "stdout",
     "output_type": "stream",
     "text": [
      "The autoreload extension is already loaded. To reload it, use:\n",
      "  %reload_ext autoreload\n"
     ]
    }
   ],
   "source": [
    "%load_ext autoreload\n",
    "%autoreload 2\n",
    "\n",
    "from consts import METRIC_NAMES, SORTER_NAMES, RANDOM_STATE\n",
    "from models import build_bayesian_linear_regression_model\n",
    "from train import get_prepared_agreement_score_dataset, train\n",
    "\n",
    "import numpy as np\n",
    "import pymc3 as pm\n",
    "import arviz as az\n",
    "import matplotlib.pyplot as plt"
   ]
  },
  {
   "cell_type": "code",
   "execution_count": 15,
   "outputs": [],
   "source": [
    "X_train, y_train, X_test, y_test = get_prepared_agreement_score_dataset()"
   ],
   "metadata": {
    "collapsed": false,
    "pycharm": {
     "name": "#%%\n"
    }
   }
  },
  {
   "cell_type": "code",
   "execution_count": 16,
   "outputs": [
    {
     "name": "stderr",
     "output_type": "stream",
     "text": [
      "/home/mclancy/.local/share/.pyenv/versions/3.8.3/envs/truespikes/lib/python3.8/site-packages/pymc3/data.py:316: FutureWarning: Using a non-tuple sequence for multidimensional indexing is deprecated; use `arr[tuple(seq)]` instead of `arr[seq]`. In the future this will be interpreted as an array index, `arr[np.array(seq)]`, which will result either in an error or a different result.\n",
      "  self.shared = theano.shared(data[in_memory_slc])\n"
     ]
    },
    {
     "name": "stdout",
     "output_type": "stream",
     "text": [
      "weight __str__ = [[0.8201379  0.60529681 0.24231545 0.13370499 0.72618495 0.33954944\n",
      "  0.24133761 0.95193292 0.6567837  0.03515912 0.216067   0.36414315\n",
      "  0.42330455]\n",
      " [0.16202279 0.29275078 0.96159049 0.1086759  0.99182379 0.25931333\n",
      "  0.88839567 0.48041581 0.64639438 0.29173382 0.39904261 0.64536145\n",
      "  0.05669444]\n",
      " [0.83158062 0.82401675 0.89445353 0.29887745 0.56577936 0.17270682\n",
      "  0.98260535 0.6281312  0.42350014 0.26838292 0.84973689 0.51663431\n",
      "  0.71178223]\n",
      " [0.76798798 0.64188464 0.76932043 0.88193921 0.40949299 0.46467954\n",
      "  0.02327996 0.07187445 0.23917199 0.35414882 0.95187907 0.76356798\n",
      "  0.21435479]\n",
      " [0.45663034 0.0369335  0.43428806 0.19692335 0.67650287 0.26321491\n",
      "  0.68986165 0.11520018 0.01610015 0.33469565 0.52444617 0.27667595\n",
      "  0.35691383]\n",
      " [0.27575289 0.21263509 0.6047347  0.35760466 0.55921541 0.35733703\n",
      "  0.73380703 0.39030101 0.51806054 0.80390546 0.89588656 0.08335289\n",
      "  0.64186172]\n",
      " [0.31139871 0.17725903 0.97195921 0.80783737 0.69360368 0.37956702\n",
      "  0.57067576 0.81387115 0.97940125 0.69353943 0.95120924 0.58601762\n",
      "  0.98768477]\n",
      " [0.48080871 0.17354535 0.28250272 0.42576441 0.58317081 0.11915923\n",
      "  0.16658169 0.05299778 0.20914649 0.0187506  0.07621348 0.86266919\n",
      "  0.78462265]]\n",
      "bias __str__ = [[0.27859761 0.1962414  0.56120569 0.53621956 0.08258142 0.75359488\n",
      "  0.89833267 0.89795023 0.39854867 0.89118619 0.64108454 0.24782106\n",
      "  0.16734721]\n",
      " [0.43360517 0.37751862 0.59302397 0.47318882 0.58476282 0.07609266\n",
      "  0.89690653 0.9408553  0.77817584 0.89802547 0.0484728  0.4577134\n",
      "  0.74907418]\n",
      " [0.85808608 0.95189535 0.70810403 0.30871321 0.65824988 0.09054969\n",
      "  0.22745702 0.21984621 0.44466458 0.91589097 0.22955508 0.80254903\n",
      "  0.29538742]\n",
      " [0.76609441 0.95350475 0.51084166 0.83828141 0.55241734 0.19290203\n",
      "  0.70278006 0.93277498 0.52874217 0.27858522 0.82766432 0.0761395\n",
      "  0.41031987]\n",
      " [0.0942563  0.79824464 0.25610067 0.98545126 0.07301766 0.58861653\n",
      "  0.72815319 0.92824075 0.33269774 0.39567372 0.68553283 0.54269137\n",
      "  0.66267998]\n",
      " [0.11602433 0.76591637 0.19835279 0.74359499 0.53267027 0.8209486\n",
      "  0.66962902 0.13316086 0.59463374 0.84226652 0.74316721 0.61291957\n",
      "  0.1898105 ]\n",
      " [0.52658469 0.02787014 0.20659791 0.16379624 0.69967732 0.34661258\n",
      "  0.53486882 0.02282008 0.60884347 0.00500207 0.2671659  0.77819539\n",
      "  0.95596919]\n",
      " [0.91867083 0.6448288  0.23378531 0.07447139 0.97607734 0.18518308\n",
      "  0.97504419 0.25059584 0.6800181  0.82738289 0.99215483 0.38156309\n",
      "  0.27383261]]\n",
      "y_mu __str__ = [[13.47825744 13.1606766  13.47825744 13.13890857 13.81074668 13.1606766\n",
      "  13.32324988 13.57123696 13.32324988 13.1606766  13.47825744 13.90273835\n",
      "  13.1606766  13.81074668 13.13890857 13.1606766  13.57123696 13.57123696\n",
      "  13.90273835 13.47825744 13.32324988 13.47825744 13.1606766  13.1606766\n",
      "  13.1606766  13.57123696 13.90273835 13.81074668 13.13890857 13.90273835\n",
      "  13.1606766  13.9633231  13.90273835 13.1606766  13.90273835 13.32324988\n",
      "  13.81074668 13.9633231  13.1606766  13.57123696 13.47825744 13.90273835\n",
      "  13.57123696 13.9633231  13.13890857 13.90273835 13.47825744 13.13890857\n",
      "  13.81074668 13.47825744 13.32324988 13.81074668 13.1606766  13.57123696\n",
      "  13.57123696 13.57123696 13.13890857 13.57123696 13.57123696 13.57123696\n",
      "  13.90273835 13.1606766  13.81074668 13.90273835]\n",
      " [13.42217089 13.81056864 13.42217089 13.84289691 13.99815702 13.81056864\n",
      "  13.24089367 13.07252241 13.24089367 13.81056864 13.42217089 13.99654762\n",
      "  13.81056864 13.99815702 13.84289691 13.81056864 13.07252241 13.07252241\n",
      "  13.99654762 13.42217089 13.24089367 13.42217089 13.81056864 13.81056864\n",
      "  13.81056864 13.07252241 13.99654762 13.99815702 13.84289691 13.99654762\n",
      "  13.81056864 13.68948107 13.99654762 13.81056864 13.99654762 13.24089367\n",
      "  13.99815702 13.68948107 13.81056864 13.07252241 13.42217089 13.99654762\n",
      "  13.07252241 13.68948107 13.84289691 13.99654762 13.42217089 13.84289691\n",
      "  13.99815702 13.42217089 13.24089367 13.99815702 13.81056864 13.07252241\n",
      "  13.07252241 13.07252241 13.84289691 13.07252241 13.07252241 13.07252241\n",
      "  13.99654762 13.81056864 13.99815702 13.99654762]\n",
      " [13.63767624 13.24300506 13.63767624 13.30075294 13.55549393 13.24300506\n",
      "  13.60585796 13.25125018 13.60585796 13.24300506 13.63767624 13.7527563\n",
      "  13.24300506 13.55549393 13.30075294 13.24300506 13.25125018 13.25125018\n",
      "  13.7527563  13.63767624 13.60585796 13.63767624 13.24300506 13.24300506\n",
      "  13.24300506 13.25125018 13.7527563  13.55549393 13.30075294 13.7527563\n",
      "  13.24300506 13.27843758 13.7527563  13.24300506 13.7527563  13.60585796\n",
      "  13.55549393 13.27843758 13.24300506 13.25125018 13.63767624 13.7527563\n",
      "  13.25125018 13.27843758 13.30075294 13.7527563  13.63767624 13.30075294\n",
      "  13.55549393 13.63767624 13.60585796 13.55549393 13.24300506 13.25125018\n",
      "  13.25125018 13.25125018 13.30075294 13.25125018 13.25125018 13.25125018\n",
      "  13.7527563  13.24300506 13.55549393 13.7527563 ]\n",
      " [13.51784109 13.78824726 13.51784109 14.03010353 13.88293368 13.78824726\n",
      "  13.58087183 13.20844851 13.58087183 13.78824726 13.51784109 13.35336548\n",
      "  13.78824726 13.88293368 14.03010353 13.78824726 13.20844851 13.20844851\n",
      "  13.35336548 13.51784109 13.58087183 13.51784109 13.78824726 13.78824726\n",
      "  13.78824726 13.20844851 13.35336548 13.88293368 14.03010353 13.35336548\n",
      "  13.78824726 13.11912366 13.35336548 13.78824726 13.35336548 13.58087183\n",
      "  13.88293368 13.11912366 13.78824726 13.20844851 13.51784109 13.35336548\n",
      "  13.20844851 13.11912366 14.03010353 13.35336548 13.51784109 14.03010353\n",
      "  13.88293368 13.51784109 13.58087183 13.88293368 13.78824726 13.20844851\n",
      "  13.20844851 13.20844851 14.03010353 13.20844851 13.20844851 13.20844851\n",
      "  13.35336548 13.78824726 13.88293368 13.35336548]\n",
      " [13.62941509 13.57732254 13.62941509 13.11766993 13.59706961 13.57732254\n",
      "  13.12723369 13.74432959 13.12723369 13.57732254 13.62941509 13.70290215\n",
      "  13.57732254 13.59706961 13.11766993 13.57732254 13.74432959 13.74432959\n",
      "  13.70290215 13.62941509 13.12723369 13.62941509 13.57732254 13.57732254\n",
      "  13.57732254 13.74432959 13.70290215 13.59706961 13.11766993 13.70290215\n",
      "  13.57732254 14.02072961 13.70290215 13.57732254 13.70290215 13.12723369\n",
      "  13.59706961 14.02072961 13.57732254 13.74432959 13.62941509 13.70290215\n",
      "  13.74432959 14.02072961 13.11766993 13.70290215 13.62941509 13.11766993\n",
      "  13.59706961 13.62941509 13.12723369 13.59706961 13.57732254 13.74432959\n",
      "  13.74432959 13.74432959 13.11766993 13.74432959 13.74432959 13.74432959\n",
      "  13.70290215 13.57732254 13.59706961 13.70290215]\n",
      " [13.12074493 13.86560087 13.12074493 13.6332688  13.2375543  13.86560087\n",
      "  13.79824715 13.39126485 13.79824715 13.86560087 13.12074493 13.13520196\n",
      "  13.86560087 13.2375543  13.6332688  13.86560087 13.39126485 13.39126485\n",
      "  13.13520196 13.12074493 13.79824715 13.12074493 13.86560087 13.86560087\n",
      "  13.86560087 13.39126485 13.13520196 13.2375543  13.6332688  13.13520196\n",
      "  13.86560087 13.22983535 13.13520196 13.86560087 13.13520196 13.79824715\n",
      "  13.2375543  13.22983535 13.86560087 13.39126485 13.12074493 13.13520196\n",
      "  13.39126485 13.22983535 13.6332688  13.13520196 13.12074493 13.6332688\n",
      "  13.2375543  13.12074493 13.79824715 13.2375543  13.86560087 13.39126485\n",
      "  13.39126485 13.39126485 13.6332688  13.39126485 13.39126485 13.39126485\n",
      "  13.13520196 13.86560087 13.2375543  13.13520196]\n",
      " [13.9415588  13.71428129 13.9415588  13.77280546 13.74743233 13.71428129\n",
      "  13.94298494 13.57952109 13.94298494 13.71428129 13.9415588  13.27210929\n",
      "  13.71428129 13.74743233 13.77280546 13.71428129 13.57952109 13.57952109\n",
      "  13.27210929 13.9415588  13.94298494 13.9415588  13.71428129 13.71428129\n",
      "  13.71428129 13.57952109 13.27210929 13.74743233 13.77280546 13.27210929\n",
      "  13.71428129 14.01969646 13.27210929 13.71428129 13.27210929 13.94298494\n",
      "  13.74743233 14.01969646 13.71428129 13.57952109 13.9415588  13.27210929\n",
      "  13.57952109 14.01969646 13.77280546 13.27210929 13.9415588  13.77280546\n",
      "  13.74743233 13.9415588  13.94298494 13.74743233 13.71428129 13.57952109\n",
      "  13.57952109 13.57952109 13.77280546 13.57952109 13.57952109 13.57952109\n",
      "  13.27210929 13.71428129 13.74743233 13.27210929]\n",
      " [13.98550757 13.17781313 13.98550757 13.97289302 13.97742725 13.17781313\n",
      "  13.9426025  13.06747235 13.9426025  13.17781313 13.98550757 13.26449848\n",
      "  13.17781313 13.97742725 13.97289302 13.17781313 13.06747235 13.06747235\n",
      "  13.26449848 13.98550757 13.9426025  13.98550757 13.17781313 13.17781313\n",
      "  13.17781313 13.06747235 13.26449848 13.97742725 13.97289302 13.26449848\n",
      "  13.17781313 13.29524811 13.26449848 13.17781313 13.26449848 13.9426025\n",
      "  13.97742725 13.29524811 13.17781313 13.06747235 13.98550757 13.26449848\n",
      "  13.06747235 13.29524811 13.97289302 13.26449848 13.98550757 13.97289302\n",
      "  13.97742725 13.98550757 13.9426025  13.97742725 13.17781313 13.06747235\n",
      "  13.06747235 13.06747235 13.97289302 13.06747235 13.06747235 13.06747235\n",
      "  13.26449848 13.17781313 13.97742725 13.26449848]\n",
      " [13.82282811 13.63928601 13.82282811 13.37735001 13.57339444 13.63928601\n",
      "  13.44320094 13.65349574 13.44320094 13.63928601 13.82282811 13.48931685\n",
      "  13.63928601 13.57339444 13.37735001 13.63928601 13.65349574 13.65349574\n",
      "  13.48931685 13.82282811 13.44320094 13.82282811 13.63928601 13.63928601\n",
      "  13.63928601 13.65349574 13.48931685 13.57339444 13.37735001 13.48931685\n",
      "  13.63928601 13.72467037 13.48931685 13.63928601 13.48931685 13.44320094\n",
      "  13.57339444 13.72467037 13.63928601 13.65349574 13.82282811 13.48931685\n",
      "  13.65349574 13.72467037 13.37735001 13.48931685 13.82282811 13.37735001\n",
      "  13.57339444 13.82282811 13.44320094 13.57339444 13.63928601 13.65349574\n",
      "  13.65349574 13.65349574 13.37735001 13.65349574 13.65349574 13.65349574\n",
      "  13.48931685 13.63928601 13.57339444 13.48931685]\n",
      " [13.94267774 13.88691879 13.94267774 13.44032599 13.32323749 13.88691879\n",
      "  13.93583846 13.04965434 13.93583846 13.88691879 13.94267774 13.96054324\n",
      "  13.88691879 13.32323749 13.44032599 13.88691879 13.04965434 13.04965434\n",
      "  13.96054324 13.94267774 13.93583846 13.94267774 13.88691879 13.88691879\n",
      "  13.88691879 13.04965434 13.96054324 13.32323749 13.44032599 13.96054324\n",
      "  13.88691879 13.87203516 13.96054324 13.88691879 13.96054324 13.93583846\n",
      "  13.32323749 13.87203516 13.88691879 13.04965434 13.94267774 13.96054324\n",
      "  13.04965434 13.87203516 13.44032599 13.96054324 13.94267774 13.44032599\n",
      "  13.32323749 13.94267774 13.93583846 13.32323749 13.88691879 13.04965434\n",
      "  13.04965434 13.04965434 13.44032599 13.04965434 13.04965434 13.04965434\n",
      "  13.96054324 13.88691879 13.32323749 13.96054324]\n",
      " [13.09312507 13.78781948 13.09312507 13.7301851  13.87231659 13.78781948\n",
      "  13.68573681 13.31181817 13.68573681 13.78781948 13.09312507 13.27420735\n",
      "  13.78781948 13.87231659 13.7301851  13.78781948 13.31181817 13.31181817\n",
      "  13.27420735 13.09312507 13.68573681 13.09312507 13.78781948 13.78781948\n",
      "  13.78781948 13.31181817 13.27420735 13.87231659 13.7301851  13.27420735\n",
      "  13.78781948 14.0368071  13.27420735 13.78781948 13.27420735 13.68573681\n",
      "  13.87231659 14.0368071  13.78781948 13.31181817 13.09312507 13.27420735\n",
      "  13.31181817 14.0368071  13.7301851  13.27420735 13.09312507 13.7301851\n",
      "  13.87231659 13.09312507 13.68573681 13.87231659 13.78781948 13.31181817\n",
      "  13.31181817 13.31181817 13.7301851  13.31181817 13.31181817 13.31181817\n",
      "  13.27420735 13.78781948 13.87231659 13.27420735]\n",
      " [13.50236567 13.65757184 13.50236567 13.58734364 13.12079177 13.65757184\n",
      "  13.29247333 13.82284766 13.29247333 13.65757184 13.50236567 13.8472013\n",
      "  13.65757184 13.12079177 13.58734364 13.65757184 13.82284766 13.82284766\n",
      "  13.8472013  13.50236567 13.29247333 13.50236567 13.65757184 13.65757184\n",
      "  13.65757184 13.82284766 13.8472013  13.12079177 13.58734364 13.8472013\n",
      "  13.65757184 13.42621536 13.8472013  13.65757184 13.8472013  13.29247333\n",
      "  13.12079177 13.42621536 13.65757184 13.82284766 13.50236567 13.8472013\n",
      "  13.82284766 13.42621536 13.58734364 13.8472013  13.50236567 13.58734364\n",
      "  13.12079177 13.50236567 13.29247333 13.12079177 13.65757184 13.82284766\n",
      "  13.82284766 13.82284766 13.58734364 13.82284766 13.82284766 13.82284766\n",
      "  13.8472013  13.65757184 13.12079177 13.8472013 ]\n",
      " [13.79372645 13.23446277 13.79372645 13.70733225 13.45497214 13.23446277\n",
      "  13.21199948 14.00062146 13.21199948 13.23446277 13.79372645 13.34003969\n",
      "  13.23446277 13.45497214 13.70733225 13.23446277 14.00062146 14.00062146\n",
      "  13.34003969 13.79372645 13.21199948 13.79372645 13.23446277 13.23446277\n",
      "  13.23446277 14.00062146 13.34003969 13.45497214 13.70733225 13.34003969\n",
      "  13.23446277 13.31848488 13.34003969 13.23446277 13.34003969 13.21199948\n",
      "  13.45497214 13.31848488 13.23446277 14.00062146 13.79372645 13.34003969\n",
      "  14.00062146 13.31848488 13.70733225 13.34003969 13.79372645 13.70733225\n",
      "  13.45497214 13.79372645 13.21199948 13.45497214 13.23446277 14.00062146\n",
      "  14.00062146 14.00062146 13.70733225 14.00062146 14.00062146 14.00062146\n",
      "  13.34003969 13.23446277 13.45497214 13.34003969]]\n"
     ]
    }
   ],
   "source": [
    "\n",
    "model = build_bayesian_linear_regression_model(\n",
    "    X_train, y_train, metric_names=METRIC_NAMES,\n",
    "    sorter_names=list(SORTER_NAMES.keys()), hierarchical=True,\n",
    ")"
   ],
   "metadata": {
    "collapsed": false,
    "pycharm": {
     "name": "#%%\n"
    }
   }
  },
  {
   "cell_type": "code",
   "execution_count": 17,
   "outputs": [
    {
     "name": "stderr",
     "output_type": "stream",
     "text": [
      "/home/mclancy/.local/share/.pyenv/versions/3.8.3/envs/truespikes/lib/python3.8/site-packages/theano/tensor/basic.py:369: DeprecationWarning: `np.complex` is a deprecated alias for the builtin `complex`. To silence this warning, use `complex` by itself. Doing this will not modify any behavior and is safe. If you specifically wanted the numpy scalar type, use `np.complex128` here.\n",
      "Deprecated in NumPy 1.20; for more details and guidance: https://numpy.org/devdocs/release/1.20.0-notes.html#deprecations\n",
      "  np.complex(data)  # works for all numeric scalars\n"
     ]
    },
    {
     "data": {
      "text/plain": "<graphviz.dot.Digraph at 0x7f283c6f2e80>",
      "image/svg+xml": "<?xml version=\"1.0\" encoding=\"UTF-8\" standalone=\"no\"?>\n<!DOCTYPE svg PUBLIC \"-//W3C//DTD SVG 1.1//EN\"\n \"http://www.w3.org/Graphics/SVG/1.1/DTD/svg11.dtd\">\n<!-- Generated by graphviz version 2.48.0 (0)\n -->\n<!-- Pages: 1 -->\n<svg width=\"550pt\" height=\"521pt\"\n viewBox=\"0.00 0.00 550.00 520.84\" xmlns=\"http://www.w3.org/2000/svg\" xmlns:xlink=\"http://www.w3.org/1999/xlink\">\n<g id=\"graph0\" class=\"graph\" transform=\"scale(1 1) rotate(0) translate(4 516.84)\">\n<polygon fill=\"white\" stroke=\"transparent\" points=\"-4,4 -4,-516.84 546,-516.84 546,4 -4,4\"/>\n<g id=\"clust1\" class=\"cluster\">\n<title>cluster13</title>\n<path fill=\"none\" stroke=\"black\" d=\"M20,-390.88C20,-390.88 522,-390.88 522,-390.88 528,-390.88 534,-396.88 534,-402.88 534,-402.88 534,-492.84 534,-492.84 534,-498.84 528,-504.84 522,-504.84 522,-504.84 20,-504.84 20,-504.84 14,-504.84 8,-498.84 8,-492.84 8,-492.84 8,-402.88 8,-402.88 8,-396.88 14,-390.88 20,-390.88\"/>\n<text text-anchor=\"middle\" x=\"519\" y=\"-398.68\" font-family=\"Times,serif\" font-size=\"14.00\">13</text>\n</g>\n<g id=\"clust2\" class=\"cluster\">\n<title>cluster8 x 13</title>\n<path fill=\"none\" stroke=\"black\" d=\"M198,-268.93C198,-268.93 375,-268.93 375,-268.93 381,-268.93 387,-274.93 387,-280.93 387,-280.93 387,-370.88 387,-370.88 387,-376.88 381,-382.88 375,-382.88 375,-382.88 198,-382.88 198,-382.88 192,-382.88 186,-376.88 186,-370.88 186,-370.88 186,-280.93 186,-280.93 186,-274.93 192,-268.93 198,-268.93\"/>\n<text text-anchor=\"middle\" x=\"361.5\" y=\"-276.73\" font-family=\"Times,serif\" font-size=\"14.00\">8 x 13</text>\n</g>\n<g id=\"clust3\" class=\"cluster\">\n<title>cluster13 x 64</title>\n<path fill=\"none\" stroke=\"black\" d=\"M244,-165.95C244,-165.95 328,-165.95 328,-165.95 334,-165.95 340,-171.95 340,-177.95 340,-177.95 340,-245.95 340,-245.95 340,-251.95 334,-257.95 328,-257.95 328,-257.95 244,-257.95 244,-257.95 238,-257.95 232,-251.95 232,-245.95 232,-245.95 232,-177.95 232,-177.95 232,-171.95 238,-165.95 244,-165.95\"/>\n<text text-anchor=\"middle\" x=\"311\" y=\"-173.75\" font-family=\"Times,serif\" font-size=\"14.00\">13 x 64</text>\n</g>\n<g id=\"clust4\" class=\"cluster\">\n<title>cluster64</title>\n<path fill=\"none\" stroke=\"black\" d=\"M308,-44C308,-44 384,-44 384,-44 390,-44 396,-50 396,-56 396,-56 396,-145.95 396,-145.95 396,-151.95 390,-157.95 384,-157.95 384,-157.95 308,-157.95 308,-157.95 302,-157.95 296,-151.95 296,-145.95 296,-145.95 296,-56 296,-56 296,-50 302,-44 308,-44\"/>\n<text text-anchor=\"middle\" x=\"381\" y=\"-51.8\" font-family=\"Times,serif\" font-size=\"14.00\">64</text>\n</g>\n<!-- bias_sigma -->\n<g id=\"node1\" class=\"node\">\n<title>bias_sigma</title>\n<ellipse fill=\"none\" stroke=\"black\" cx=\"471\" cy=\"-459.36\" rx=\"55.31\" ry=\"37.45\"/>\n<text text-anchor=\"middle\" x=\"471\" y=\"-470.66\" font-family=\"Times,serif\" font-size=\"14.00\">bias_sigma</text>\n<text text-anchor=\"middle\" x=\"471\" y=\"-455.66\" font-family=\"Times,serif\" font-size=\"14.00\">~</text>\n<text text-anchor=\"middle\" x=\"471\" y=\"-440.66\" font-family=\"Times,serif\" font-size=\"14.00\">Normal</text>\n</g>\n<!-- bias -->\n<g id=\"node5\" class=\"node\">\n<title>bias</title>\n<ellipse fill=\"none\" stroke=\"black\" cx=\"337\" cy=\"-337.41\" rx=\"41.94\" ry=\"37.45\"/>\n<text text-anchor=\"middle\" x=\"337\" y=\"-348.71\" font-family=\"Times,serif\" font-size=\"14.00\">bias</text>\n<text text-anchor=\"middle\" x=\"337\" y=\"-333.71\" font-family=\"Times,serif\" font-size=\"14.00\">~</text>\n<text text-anchor=\"middle\" x=\"337\" y=\"-318.71\" font-family=\"Times,serif\" font-size=\"14.00\">Normal</text>\n</g>\n<!-- bias_sigma&#45;&gt;bias -->\n<g id=\"edge3\" class=\"edge\">\n<title>bias_sigma&#45;&gt;bias</title>\n<path fill=\"none\" stroke=\"black\" d=\"M443.05,-426.71C432.21,-415.03 419.42,-401.94 407,-390.88 397.87,-382.76 387.57,-374.55 377.73,-367.12\"/>\n<polygon fill=\"black\" stroke=\"black\" points=\"379.72,-364.24 369.6,-361.09 375.54,-369.86 379.72,-364.24\"/>\n</g>\n<!-- weights_sigma -->\n<g id=\"node2\" class=\"node\">\n<title>weights_sigma</title>\n<ellipse fill=\"none\" stroke=\"black\" cx=\"221\" cy=\"-459.36\" rx=\"69.09\" ry=\"37.45\"/>\n<text text-anchor=\"middle\" x=\"221\" y=\"-470.66\" font-family=\"Times,serif\" font-size=\"14.00\">weights_sigma</text>\n<text text-anchor=\"middle\" x=\"221\" y=\"-455.66\" font-family=\"Times,serif\" font-size=\"14.00\">~</text>\n<text text-anchor=\"middle\" x=\"221\" y=\"-440.66\" font-family=\"Times,serif\" font-size=\"14.00\">Normal</text>\n</g>\n<!-- weights -->\n<g id=\"node6\" class=\"node\">\n<title>weights</title>\n<ellipse fill=\"none\" stroke=\"black\" cx=\"236\" cy=\"-337.41\" rx=\"41.94\" ry=\"37.45\"/>\n<text text-anchor=\"middle\" x=\"236\" y=\"-348.71\" font-family=\"Times,serif\" font-size=\"14.00\">weights</text>\n<text text-anchor=\"middle\" x=\"236\" y=\"-333.71\" font-family=\"Times,serif\" font-size=\"14.00\">~</text>\n<text text-anchor=\"middle\" x=\"236\" y=\"-318.71\" font-family=\"Times,serif\" font-size=\"14.00\">Normal</text>\n</g>\n<!-- weights_sigma&#45;&gt;weights -->\n<g id=\"edge1\" class=\"edge\">\n<title>weights_sigma&#45;&gt;weights</title>\n<path fill=\"none\" stroke=\"black\" d=\"M225.58,-421.72C227.04,-410.09 228.66,-397.08 230.19,-384.86\"/>\n<polygon fill=\"black\" stroke=\"black\" points=\"233.68,-385.18 231.45,-374.82 226.73,-384.31 233.68,-385.18\"/>\n</g>\n<!-- weights_mu -->\n<g id=\"node3\" class=\"node\">\n<title>weights_mu</title>\n<ellipse fill=\"none\" stroke=\"black\" cx=\"75\" cy=\"-459.36\" rx=\"58.88\" ry=\"37.45\"/>\n<text text-anchor=\"middle\" x=\"75\" y=\"-470.66\" font-family=\"Times,serif\" font-size=\"14.00\">weights_mu</text>\n<text text-anchor=\"middle\" x=\"75\" y=\"-455.66\" font-family=\"Times,serif\" font-size=\"14.00\">~</text>\n<text text-anchor=\"middle\" x=\"75\" y=\"-440.66\" font-family=\"Times,serif\" font-size=\"14.00\">Normal</text>\n</g>\n<!-- weights_mu&#45;&gt;weights -->\n<g id=\"edge2\" class=\"edge\">\n<title>weights_mu&#45;&gt;weights</title>\n<path fill=\"none\" stroke=\"black\" d=\"M103.86,-426.28C115.4,-414.41 129.21,-401.32 143,-390.88 157.71,-379.76 175.03,-369.35 190.71,-360.79\"/>\n<polygon fill=\"black\" stroke=\"black\" points=\"192.55,-363.78 199.72,-355.97 189.25,-357.6 192.55,-363.78\"/>\n</g>\n<!-- bias_mu -->\n<g id=\"node4\" class=\"node\">\n<title>bias_mu</title>\n<ellipse fill=\"none\" stroke=\"black\" cx=\"353\" cy=\"-459.36\" rx=\"44.6\" ry=\"37.45\"/>\n<text text-anchor=\"middle\" x=\"353\" y=\"-470.66\" font-family=\"Times,serif\" font-size=\"14.00\">bias_mu</text>\n<text text-anchor=\"middle\" x=\"353\" y=\"-455.66\" font-family=\"Times,serif\" font-size=\"14.00\">~</text>\n<text text-anchor=\"middle\" x=\"353\" y=\"-440.66\" font-family=\"Times,serif\" font-size=\"14.00\">Normal</text>\n</g>\n<!-- bias_mu&#45;&gt;bias -->\n<g id=\"edge4\" class=\"edge\">\n<title>bias_mu&#45;&gt;bias</title>\n<path fill=\"none\" stroke=\"black\" d=\"M348.16,-422.04C346.6,-410.41 344.86,-397.36 343.23,-385.09\"/>\n<polygon fill=\"black\" stroke=\"black\" points=\"346.67,-384.46 341.88,-375.01 339.74,-385.39 346.67,-384.46\"/>\n</g>\n<!-- y_mu -->\n<g id=\"node8\" class=\"node\">\n<title>y_mu</title>\n<polygon fill=\"none\" stroke=\"black\" points=\"331.5,-249.95 240.5,-249.95 240.5,-196.95 331.5,-196.95 331.5,-249.95\"/>\n<text text-anchor=\"middle\" x=\"286\" y=\"-234.75\" font-family=\"Times,serif\" font-size=\"14.00\">y_mu</text>\n<text text-anchor=\"middle\" x=\"286\" y=\"-219.75\" font-family=\"Times,serif\" font-size=\"14.00\">~</text>\n<text text-anchor=\"middle\" x=\"286\" y=\"-204.75\" font-family=\"Times,serif\" font-size=\"14.00\">Deterministic</text>\n</g>\n<!-- bias&#45;&gt;y_mu -->\n<g id=\"edge5\" class=\"edge\">\n<title>bias&#45;&gt;y_mu</title>\n<path fill=\"none\" stroke=\"black\" d=\"M321.56,-302.51C315.32,-288.81 308.12,-273.01 301.84,-259.22\"/>\n<polygon fill=\"black\" stroke=\"black\" points=\"304.99,-257.7 297.66,-250.05 298.62,-260.6 304.99,-257.7\"/>\n</g>\n<!-- weights&#45;&gt;y_mu -->\n<g id=\"edge6\" class=\"edge\">\n<title>weights&#45;&gt;y_mu</title>\n<path fill=\"none\" stroke=\"black\" d=\"M251.27,-302.21C257.28,-288.76 264.18,-273.31 270.23,-259.75\"/>\n<polygon fill=\"black\" stroke=\"black\" points=\"273.59,-260.83 274.47,-250.27 267.2,-257.97 273.59,-260.83\"/>\n</g>\n<!-- sigma -->\n<g id=\"node7\" class=\"node\">\n<title>sigma</title>\n<ellipse fill=\"none\" stroke=\"black\" cx=\"407\" cy=\"-223.45\" rx=\"57.97\" ry=\"37.45\"/>\n<text text-anchor=\"middle\" x=\"407\" y=\"-234.75\" font-family=\"Times,serif\" font-size=\"14.00\">sigma</text>\n<text text-anchor=\"middle\" x=\"407\" y=\"-219.75\" font-family=\"Times,serif\" font-size=\"14.00\">~</text>\n<text text-anchor=\"middle\" x=\"407\" y=\"-204.75\" font-family=\"Times,serif\" font-size=\"14.00\">HalfCauchy</text>\n</g>\n<!-- y -->\n<g id=\"node9\" class=\"node\">\n<title>y</title>\n<ellipse fill=\"lightgrey\" stroke=\"black\" cx=\"346\" cy=\"-112.48\" rx=\"41.94\" ry=\"37.45\"/>\n<text text-anchor=\"middle\" x=\"346\" y=\"-123.78\" font-family=\"Times,serif\" font-size=\"14.00\">y</text>\n<text text-anchor=\"middle\" x=\"346\" y=\"-108.78\" font-family=\"Times,serif\" font-size=\"14.00\">~</text>\n<text text-anchor=\"middle\" x=\"346\" y=\"-93.78\" font-family=\"Times,serif\" font-size=\"14.00\">Normal</text>\n</g>\n<!-- sigma&#45;&gt;y -->\n<g id=\"edge8\" class=\"edge\">\n<title>sigma&#45;&gt;y</title>\n<path fill=\"none\" stroke=\"black\" d=\"M387.7,-187.97C381.86,-177.55 375.39,-165.99 369.32,-155.14\"/>\n<polygon fill=\"black\" stroke=\"black\" points=\"372.28,-153.26 364.34,-146.25 366.17,-156.68 372.28,-153.26\"/>\n</g>\n<!-- y_mu&#45;&gt;y -->\n<g id=\"edge7\" class=\"edge\">\n<title>y_mu&#45;&gt;y</title>\n<path fill=\"none\" stroke=\"black\" d=\"M300.07,-196.9C306.89,-184.52 315.25,-169.32 322.97,-155.31\"/>\n<polygon fill=\"black\" stroke=\"black\" points=\"326.16,-156.76 327.92,-146.31 320.03,-153.38 326.16,-156.76\"/>\n</g>\n<!-- y_observed -->\n<g id=\"node10\" class=\"node\">\n<title>y_observed</title>\n<ellipse fill=\"none\" stroke=\"black\" cx=\"346\" cy=\"-18\" rx=\"51.19\" ry=\"18\"/>\n<text text-anchor=\"middle\" x=\"346\" y=\"-14.3\" font-family=\"Times,serif\" font-size=\"14.00\">y_observed</text>\n</g>\n<!-- y&#45;&gt;y_observed -->\n<g id=\"edge9\" class=\"edge\">\n<title>y&#45;&gt;y_observed</title>\n<path fill=\"none\" stroke=\"black\" d=\"M346,-74.93C346,-65.45 346,-55.41 346,-46.49\"/>\n<polygon fill=\"black\" stroke=\"black\" points=\"349.5,-46.27 346,-36.27 342.5,-46.27 349.5,-46.27\"/>\n</g>\n</g>\n</svg>\n"
     },
     "execution_count": 17,
     "metadata": {},
     "output_type": "execute_result"
    }
   ],
   "source": [
    "pm.model_to_graphviz(model)"
   ],
   "metadata": {
    "collapsed": false,
    "pycharm": {
     "name": "#%%\n"
    }
   }
  },
  {
   "cell_type": "code",
   "execution_count": 18,
   "outputs": [
    {
     "name": "stderr",
     "output_type": "stream",
     "text": [
      "/home/mclancy/.local/share/.pyenv/versions/3.8.3/envs/truespikes/lib/python3.8/site-packages/theano/tensor/basic.py:369: DeprecationWarning: `np.complex` is a deprecated alias for the builtin `complex`. To silence this warning, use `complex` by itself. Doing this will not modify any behavior and is safe. If you specifically wanted the numpy scalar type, use `np.complex128` here.\n",
      "Deprecated in NumPy 1.20; for more details and guidance: https://numpy.org/devdocs/release/1.20.0-notes.html#deprecations\n",
      "  np.complex(data)  # works for all numeric scalars\n",
      "Finished [100%]: Average Loss = 5,070.7\n"
     ]
    },
    {
     "data": {
      "text/plain": "<IPython.core.display.HTML object>",
      "text/html": "\n    <div>\n        <style>\n            /* Turns off some styling */\n            progress {\n                /* gets rid of default border in Firefox and Opera. */\n                border: none;\n                /* Needs to be in here for Safari polyfill so background images work as expected. */\n                background-size: auto;\n            }\n            .progress-bar-interrupted, .progress-bar-interrupted::-webkit-progress-bar {\n                background: #F44336;\n            }\n        </style>\n      <progress value='0' class='' max='100000' style='width:300px; height:20px; vertical-align: middle;'></progress>\n      \n    </div>\n    "
     },
     "metadata": {},
     "output_type": "display_data"
    }
   ],
   "source": [
    "with model:\n",
    "        approx = pm.fit(100000, callbacks=[pm.callbacks.CheckParametersConvergence(tolerance=1e-4)])"
   ],
   "metadata": {
    "collapsed": false,
    "pycharm": {
     "name": "#%%\n"
    }
   }
  },
  {
   "cell_type": "code",
   "execution_count": 19,
   "outputs": [
    {
     "data": {
      "text/plain": "[<matplotlib.lines.Line2D at 0x7f27eb5d4af0>]"
     },
     "execution_count": 19,
     "metadata": {},
     "output_type": "execute_result"
    },
    {
     "data": {
      "text/plain": "<Figure size 432x288 with 1 Axes>",
      "image/png": "[encoded data removed]"
     },
     "metadata": {
      "needs_background": "light"
     },
     "output_type": "display_data"
    }
   ],
   "source": [
    "plt.plot(approx.hist)"
   ],
   "metadata": {
    "collapsed": false,
    "pycharm": {
     "name": "#%%\n"
    }
   }
  },
  {
   "cell_type": "code",
   "execution_count": 20,
   "outputs": [
    {
     "name": "stderr",
     "output_type": "stream",
     "text": [
      "/home/mclancy/.local/share/.pyenv/versions/3.8.3/envs/truespikes/lib/python3.8/site-packages/theano/tensor/basic.py:369: DeprecationWarning: `np.complex` is a deprecated alias for the builtin `complex`. To silence this warning, use `complex` by itself. Doing this will not modify any behavior and is safe. If you specifically wanted the numpy scalar type, use `np.complex128` here.\n",
      "Deprecated in NumPy 1.20; for more details and guidance: https://numpy.org/devdocs/release/1.20.0-notes.html#deprecations\n",
      "  np.complex(data)  # works for all numeric scalars\n",
      "/tmp/ipykernel_116208/2347353989.py:3: FutureWarning: In v4.0, pm.sample will return an `arviz.InferenceData` object instead of a `MultiTrace` by default. You can pass return_inferencedata=True or return_inferencedata=False to be safe and silence this warning.\n",
      "  trace = pm.sample(2000, step=step, init='adapt_diag', start=approx.sample()[0], progressbar=False)\n",
      "Multiprocess sampling (4 chains in 4 jobs)\n",
      "NUTS: [sigma, bias, weights, bias_sigma, bias_mu, weights_sigma, weights_mu]\n",
      "Sampling 4 chains for 1_000 tune and 2_000 draw iterations (4_000 + 8_000 draws total) took 147 seconds.\n",
      "The chain contains only diverging samples. The model is probably misspecified.\n",
      "There were 1999 divergences after tuning. Increase `target_accept` or reparameterize.\n",
      "There were 1999 divergences after tuning. Increase `target_accept` or reparameterize.\n",
      "The chain contains only diverging samples. The model is probably misspecified.\n",
      "The rhat statistic is larger than 1.4 for some parameters. The sampler did not converge.\n",
      "The estimated number of effective samples is smaller than 200 for some parameters.\n"
     ]
    }
   ],
   "source": [
    "with model:\n",
    "    step = pm.NUTS(scaling=approx.cov.eval(), is_cov=True)\n",
    "    trace = pm.sample(2000, step=step, init='adapt_diag', start=approx.sample()[0], progressbar=False)"
   ],
   "metadata": {
    "collapsed": false,
    "pycharm": {
     "name": "#%%\n"
    }
   }
  },
  {
   "cell_type": "code",
   "execution_count": null,
   "outputs": [],
   "source": [],
   "metadata": {
    "collapsed": false,
    "pycharm": {
     "name": "#%%\n"
    }
   }
  }
 ],
 "metadata": {
  "kernelspec": {
   "display_name": "Python 3",
   "language": "python",
   "name": "python3"
  },
  "language_info": {
   "codemirror_mode": {
    "name": "ipython",
    "version": 2
   },
   "file_extension": ".py",
   "mimetype": "text/x-python",
   "name": "python",
   "nbconvert_exporter": "python",
   "pygments_lexer": "ipython2",
   "version": "2.7.6"
  }
 },
 "nbformat": 4,
 "nbformat_minor": 0
}