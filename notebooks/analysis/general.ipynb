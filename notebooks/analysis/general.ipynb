{
 "cells": [
  {
   "cell_type": "code",
   "execution_count": null,
   "metadata": {
    "collapsed": true
   },
   "outputs": [],
   "source": []
  },
  {
   "cell_type": "code",
   "execution_count": null,
   "outputs": [],
   "source": [
    "from sklearn.preprocessing import StandardScaler\n",
    "from sklearn.svm import SVC\n",
    "\n",
    "svc_model = make_pipeline(StandardScaler(), SVC(kernel='linear'))\n",
    "score(STUDY_SET_NAMES, model=svc_model)\n",
    "\n",
    "svc_model = make_pipeline(StandardScaler(), SVC(kernel='linear'))\n",
    "score(STUDY_SET_NAMES, model=svc_model, one_hot_encode_sorter_name=True)"
   ],
   "metadata": {
    "collapsed": false,
    "pycharm": {
     "name": "#%%\n"
    }
   }
  },
  {
   "cell_type": "code",
   "execution_count": null,
   "outputs": [],
   "source": [
    "from sklearn.linear_model import LogisticRegression\n",
    "\n",
    "logit_model = make_pipeline(StandardScaler(), LogisticRegression())\n",
    "score(STUDY_SET_NAMES, model=logit_model)\n",
    "\n",
    "\n",
    "logit_model = make_pipeline(StandardScaler(), LogisticRegression())\n",
    "score(STUDY_SET_NAMES, model=logit_model, one_hot_encode_sorter_name=True)"
   ],
   "metadata": {
    "collapsed": false,
    "pycharm": {
     "name": "#%%\n"
    }
   }
  },
  {
   "cell_type": "code",
   "execution_count": null,
   "outputs": [],
   "source": [
    "from sklearn.ensemble import RandomForestClassifier\n",
    "\n",
    "rfc_model = make_pipeline(StandardScaler(), RandomForestClassifier())\n",
    "score(STUDY_SET_NAMES, model=rfc_model)\n",
    "\n",
    "\n",
    "rfc_model = make_pipeline(StandardScaler(), RandomForestClassifier())\n",
    "score(STUDY_SET_NAMES, model=rfc_model, one_hot_encode_sorter_name=True)"
   ],
   "metadata": {
    "collapsed": false,
    "pycharm": {
     "name": "#%%\n"
    }
   }
  },
  {
   "cell_type": "code",
   "execution_count": null,
   "outputs": [],
   "source": [],
   "metadata": {
    "collapsed": false,
    "pycharm": {
     "name": "#%%\n"
    }
   }
  }
 ],
 "metadata": {
  "kernelspec": {
   "display_name": "Python 3",
   "language": "python",
   "name": "python3"
  },
  "language_info": {
   "codemirror_mode": {
    "name": "ipython",
    "version": 2
   },
   "file_extension": ".py",
   "mimetype": "text/x-python",
   "name": "python",
   "nbconvert_exporter": "python",
   "pygments_lexer": "ipython2",
   "version": "2.7.6"
  }
 },
 "nbformat": 4,
 "nbformat_minor": 0
}