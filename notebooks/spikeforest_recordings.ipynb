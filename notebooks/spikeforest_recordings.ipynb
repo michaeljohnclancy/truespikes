{
 "cells": [
  {
   "cell_type": "code",
   "execution_count": 1,
   "outputs": [],
   "source": [
    "from spikeforest_recordings_utils import StudySet\n",
    "\n",
    "names = ['HYBRID_JANELIA', 'LONG_DRIFT', 'LONG_STATIC', 'MANUAL_FRANKLAB', 'PAIRED_BOYDEN', 'PAIRED_CRCNS_HC1', 'PAIRED_ENGLISH', 'PAIRED_KAMPFF', 'PAIRED_MEA64C_YGER', 'PAIRED_MONOTRODE', 'SYNTH_BIONET', 'SYNTH_MAGLAND', 'SYNTH_MEAREC_NEURONEXUS', 'SYNTH_MEAREC_TETRODE', 'SYNTH_MONOTRODE', 'SYNTH_VISAPY']"
   ],
   "metadata": {
    "collapsed": false,
    "pycharm": {
     "name": "#%%\n"
    }
   }
  },
  {
   "cell_type": "code",
   "execution_count": 2,
   "outputs": [],
   "source": [
    "# Retrieve study set by name\n",
    "hybrid_janelia = StudySet.load('HYBRID_JANELIA')"
   ],
   "metadata": {
    "collapsed": false,
    "pycharm": {
     "name": "#%%\n"
    }
   }
  },
  {
   "cell_type": "code",
   "execution_count": 3,
   "outputs": [
    {
     "data": {
      "text/plain": "['hybrid_drift_siprobe',\n 'hybrid_static_tetrode',\n 'hybrid_static_siprobe',\n 'hybrid_drift_tetrode']"
     },
     "execution_count": 3,
     "metadata": {},
     "output_type": "execute_result"
    }
   ],
   "source": [
    "# List study names available in study set\n",
    "hybrid_janelia.get_study_names()"
   ],
   "metadata": {
    "collapsed": false,
    "pycharm": {
     "name": "#%%\n"
    }
   }
  },
  {
   "cell_type": "code",
   "execution_count": 4,
   "outputs": [],
   "source": [
    "hybrid_static_siprobe = hybrid_janelia.get_study('hybrid_drift_siprobe')"
   ],
   "metadata": {
    "collapsed": false,
    "pycharm": {
     "name": "#%%\n"
    }
   }
  },
  {
   "cell_type": "code",
   "execution_count": 5,
   "outputs": [
    {
     "data": {
      "text/plain": "['rec_16c_1200s_11',\n 'rec_16c_1200s_21',\n 'rec_16c_1200s_31',\n 'rec_16c_600s_11',\n 'rec_16c_600s_12',\n 'rec_16c_600s_21',\n 'rec_16c_600s_22',\n 'rec_16c_600s_31',\n 'rec_16c_600s_32',\n 'rec_32c_1200s_11',\n 'rec_32c_1200s_21',\n 'rec_32c_1200s_31',\n 'rec_32c_600s_11',\n 'rec_32c_600s_12',\n 'rec_32c_600s_21',\n 'rec_32c_600s_22',\n 'rec_32c_600s_31',\n 'rec_32c_600s_32',\n 'rec_64c_1200s_11',\n 'rec_64c_600s_11',\n 'rec_64c_600s_12']"
     },
     "execution_count": 5,
     "metadata": {},
     "output_type": "execute_result"
    }
   ],
   "source": [
    "hybrid_static_siprobe.get_recording_names()"
   ],
   "metadata": {
    "collapsed": false,
    "pycharm": {
     "name": "#%%\n"
    }
   }
  },
  {
   "cell_type": "code",
   "execution_count": 6,
   "outputs": [],
   "source": [
    "rec_16c_1200s_11 = hybrid_static_siprobe.get_recording_set('rec_16c_1200s_11')"
   ],
   "metadata": {
    "collapsed": false,
    "pycharm": {
     "name": "#%%\n"
    }
   }
  },
  {
   "cell_type": "code",
   "execution_count": 7,
   "outputs": [],
   "source": [
    "# Get LabboxEphysRecordingExtractor and LabboxEphysSortingExtractor for recording set\n",
    "recording = rec_16c_1200s_11.get_recording(download=False)\n",
    "ground_truth = rec_16c_1200s_11.get_ground_truth()"
   ],
   "metadata": {
    "collapsed": false,
    "pycharm": {
     "name": "#%%\n"
    }
   }
  },
  {
   "cell_type": "code",
   "execution_count": 8,
   "outputs": [
    {
     "name": "stdout",
     "output_type": "stream",
     "text": [
      "rec_16c_1200s_11\n",
      "Recording has 16 channels and 36000000 timepoints (samplerate: 30000.0)\n",
      "Unit 1 has 10273 events\n"
     ]
    }
   ],
   "source": [
    "channel_ids = recording.get_channel_ids()\n",
    "samplerate = recording.get_sampling_frequency()\n",
    "num_timepoints = recording.get_num_frames()\n",
    "print(f'{rec_16c_1200s_11.name}')\n",
    "print(f'Recording has {len(channel_ids)} channels and {num_timepoints} timepoints (samplerate: {samplerate})')\n",
    "\n",
    "unit_ids = ground_truth.get_unit_ids()\n",
    "spike_train = ground_truth.get_unit_spike_train(unit_id=unit_ids[0])\n",
    "print(f'Unit {unit_ids[0]} has {len(spike_train)} events')"
   ],
   "metadata": {
    "collapsed": false,
    "pycharm": {
     "name": "#%%\n"
    }
   }
  }
 ],
 "metadata": {
  "kernelspec": {
   "display_name": "Python 3",
   "language": "python",
   "name": "python3"
  },
  "language_info": {
   "codemirror_mode": {
    "name": "ipython",
    "version": 2
   },
   "file_extension": ".py",
   "mimetype": "text/x-python",
   "name": "python",
   "nbconvert_exporter": "python",
   "pygments_lexer": "ipython2",
   "version": "2.7.6"
  }
 },
 "nbformat": 4,
 "nbformat_minor": 0
}