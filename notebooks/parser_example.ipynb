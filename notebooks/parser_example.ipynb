{
 "cells": [
  {
   "cell_type": "code",
   "execution_count": 1,
   "outputs": [],
   "source": [
    "import kachery_p2p as kp\n",
    "from utils import parse_sf_results"
   ],
   "metadata": {
    "collapsed": false,
    "pycharm": {
     "name": "#%%\n"
    }
   }
  },
  {
   "cell_type": "code",
   "source": [
    "# Load in the data from the sf url\n",
    "khash = 'sha1://b3444629251cafda919af535f0e9837279151c6e/spikeforest-full-gt-qm.json?manifest=cf73c99d06c11e328e635e14dc24b8db7372db3d'\n",
    "sf_data = kp.load_json(khash)"
   ],
   "metadata": {
    "collapsed": false,
    "pycharm": {
     "name": "#%%\n"
    }
   },
   "execution_count": null,
   "outputs": []
  },
  {
   "cell_type": "code",
   "execution_count": 3,
   "outputs": [
    {
     "name": "stdout",
     "output_type": "stream",
     "text": [
      "dict_keys(['hybrid_drift_siprobe', 'hybrid_drift_tetrode', 'hybrid_static_siprobe', 'hybrid_static_tetrode', 'manual_tetrode_1200s', 'manual_tetrode_2400s', 'manual_tetrode_600s', 'mea_c30', 'neurocube_quiroga_difficult1', 'neurocube_quiroga_difficult2', 'neurocube_quiroga_easy1', 'neurocube_quiroga_easy2', 'neurocube_sim2_11K20', 'neurocube_sim2_2K10', 'paired_boyden32c', 'paired_crcns', 'paired_english', 'paired_kampff', 'paired_mea64c', 'paired_monotrode_boyden32c', 'paired_monotrode_crcns', 'paired_monotrode_kampff', 'paired_monotrode_mea64c', 'synth_bionet_drift', 'synth_bionet_shuffle', 'synth_bionet_static', 'synth_magland_noise10_K10_C4', 'synth_magland_noise10_K10_C8', 'synth_magland_noise10_K20_C4', 'synth_magland_noise10_K20_C8', 'synth_magland_noise20_K10_C4', 'synth_magland_noise20_K10_C8', 'synth_magland_noise20_K20_C4', 'synth_magland_noise20_K20_C8', 'synth_mearec_neuronexus_noise10_K10_C32', 'synth_mearec_neuronexus_noise10_K20_C32', 'synth_mearec_neuronexus_noise10_K40_C32', 'synth_mearec_neuronexus_noise20_K10_C32', 'synth_mearec_neuronexus_noise20_K20_C32', 'synth_mearec_neuronexus_noise20_K40_C32', 'synth_mearec_tetrode_noise10_K10_C4', 'synth_mearec_tetrode_noise10_K20_C4', 'synth_mearec_tetrode_noise20_K10_C4', 'synth_mearec_tetrode_noise20_K20_C4'])\n",
      "   num_spikes  firing_rate  presence_ratio  isi_violation  amplitude_cutoff  \\\n",
      "0        4520    15.066667             1.0       0.524296          0.004150   \n",
      "1        4784    15.946667             1.0       0.017661          0.058162   \n",
      "2        4367    14.556667             1.0       0.185460          0.000863   \n",
      "3        2806     9.353333             1.0       0.295189          0.000863   \n",
      "4        2385     7.950000             1.0       0.124357          0.088413   \n",
      "\n",
      "         snr  max_drift  cumulative_drift  silhouette_score  \\\n",
      "0   6.238558       4.32              8.79          0.188411   \n",
      "1   6.425260       4.97             17.41          0.088950   \n",
      "2   6.958952       2.64              6.10          0.118006   \n",
      "3  15.005513       1.99              4.89          0.155058   \n",
      "4  13.823598       2.00              3.54          0.209892   \n",
      "\n",
      "   isolation_distance   l_ratio   d_prime  nn_hit_rate  nn_miss_rate     fp  \n",
      "0          161.459356  0.000093  7.703094     0.985556      0.004074  False  \n",
      "1          104.841946  0.029699  3.799442     0.902222      0.010202  False  \n",
      "2           82.326332  0.092345  3.920403     0.840000      0.013602  False  \n",
      "3          121.013450  0.106870  4.350831     0.872222      0.015335  False  \n",
      "4          100.397721  0.019817  5.887953     0.941111      0.007875  False  \n"
     ]
    }
   ],
   "source": [
    "# Returns a dictionary of pandas dataframes, with key study_name\n",
    "all_data = parse_sf_results(sf_data=sf_data, by_study=True, train_test_split=False)\n",
    "print(all_data.keys())\n",
    "print(all_data['mea_c30'].head())"
   ],
   "metadata": {
    "collapsed": false,
    "pycharm": {
     "name": "#%%\n"
    }
   }
  },
  {
   "cell_type": "code",
   "execution_count": 4,
   "outputs": [
    {
     "name": "stdout",
     "output_type": "stream",
     "text": [
      "dict_keys(['HerdingSpikes2', 'IronClust', 'JRClust', 'KiloSort', 'KiloSort2', 'Klusta', 'MountainSort4', 'SpykingCircus', 'Tridesclous', 'Waveclus'])\n"
     ]
    }
   ],
   "source": [
    "# Returns a dictionary of pandas dataframes, with key sorter_name\n",
    "all_data = parse_sf_results(sf_data=sf_data, by_sorter=True, train_test_split=False)\n",
    "print(all_data.keys())"
   ],
   "metadata": {
    "collapsed": false,
    "pycharm": {
     "name": "#%%\n"
    }
   }
  },
  {
   "cell_type": "code",
   "execution_count": 5,
   "outputs": [
    {
     "name": "stdout",
     "output_type": "stream",
     "text": [
      "dict_keys(['001_synth', '002_synth', '003_synth', '004_synth', '005_synth', '006_synth', '007_synth', '008_synth', '009_synth', '010_synth', '1103_1_1', '1103_1_1_ch1', '1103_1_1_ch2', '1103_1_1_ch4', '2014_11_25_Pair_3_0', '2014_11_25_Pair_3_0_ch1', '2014_11_25_Pair_3_0_ch3', '2014_11_25_Pair_3_0_ch4', '2015_09_03_Pair_9_0A', '2015_09_03_Pair_9_0A_ch2', '2015_09_03_Pair_9_0B', '2015_09_03_Pair_9_0B_ch1', '2015_09_03_Pair_9_0B_ch4', '20160415_patch2', '20160415_patch2_ch4', '20160426_patch3', '20170621_patch1', '20170621_patch1_ch4', '20170622_patch1', '20170622_patch1_ch2', '20170622_patch1_ch3', '20170622_patch2', '20170622_patch2_ch1', '20170622_patch2_ch2', '20170622_patch2_ch4', '20170623_patch1', '20170623_patch1_ch4', '20170627_patch1', '20170629_patch2', '20170629_patch2_ch2', '20170629_patch3', '20170629_patch3_ch3', '20170630_patch1', '20170630_patch1_ch2', '20170630_patch1_ch3', '20170630_patch1_ch4', '20170706_patch1', '20170706_patch1_ch1', '20170706_patch1_ch3', '20170706_patch1_ch4', '20170706_patch2', '20170706_patch2_ch3', '20170706_patch3', '20170706_patch3_ch2', '20170706_patch3_ch3', '20170713_patch1', '20170713_patch1_ch1', '20170713_patch1_ch2', '20170713_patch1_ch4', '20170725_patch1', '20170726_patch1', '20170726_patch1_ch1', '20170728_patch2', '20170728_patch2_ch2', '20170803_patch1', '20170803_patch1_ch3', '419_1_7', '419_1_7_ch3', '419_1_7_ch4', '419_1_8', '419_1_8_ch1', '509_1_1', '509_1_1_ch2', '509_1_2', '513_1_1', '513_1_1_ch4', '513_1_2', '513_1_2_ch1', '513_1_2_ch3', '513_2_2', '513_2_3', '513_2_3_ch1', '513_2_3_ch2', '513_2_3_ch4', '531_2_1', '531_2_1_ch1', '531_2_1_ch2', '531_2_2', '531_2_2_ch2', '531_2_2_ch4', '624_2_1', '624_2_1_ch1', '624_2_1_ch3', '624_2_2', '624_5_1', '624_5_1_ch4', '624_5_2', '624_5_2_ch1', '624_5_2_ch3', '915_10_1', '915_10_1_ch4', '915_17_1', '915_17_1_ch3', '915_18_1', '915_18_1_ch1', '915_8_1', 'C_Difficult1_noise005', 'C_Difficult1_noise01', 'C_Difficult1_noise015', 'C_Difficult1_noise02', 'C_Difficult2_noise005', 'C_Difficult2_noise01', 'C_Difficult2_noise015', 'C_Difficult2_noise02', 'C_Easy1_noise005', 'C_Easy1_noise01', 'C_Easy1_noise015', 'C_Easy1_noise02', 'C_Easy2_noise005', 'C_Easy2_noise01', 'C_Easy2_noise015', 'C_Easy2_noise02', 'c14', 'c14_ch1', 'c14_ch2', 'c14_ch3', 'c14_ch4', 'c16', 'c19', 'c19_ch2', 'c19_ch3', 'c21', 'c21_ch2', 'c21_ch4', 'c24', 'c24_ch1', 'c24_ch3', 'c26', 'c26_ch2', 'c26_ch4', 'c27', 'c27_ch4', 'c28', 'c28_ch3', 'c42', 'c42_ch3', 'c44', 'c44_ch1', 'c45', 'c45_ch1', 'c46', 'c46_ch1', 'c46_ch3', 'd11221_d11221.001', 'd11221_d11221.002', 'd11221_d11221.002_ch2', 'd11221_d11221.002_ch3', 'd11222_d11222.001', 'd11222_d11222.002', 'd11222_d1122202', 'd11222_d1122203', 'd11222_d1122204', 'd11222_d1122204_ch1', 'd11222_d1122204_ch2', 'd11222_d1122205', 'd11222_d1122205_ch2', 'd11222_d1122206', 'd11222_d1122206_ch3', 'd11222_d1122207', 'd11222_d1122210', 'd11222_d1122212', 'd11222_d1122212_ch3', 'd11222_d1122213', 'd12821_d12821.001', 'd12821_d1282101', 'd12821_d1282101_ch3', 'd12821_d1282103', 'd12821_d1282105', 'd13521_d1352102', 'd13522_d1352201', 'd13522_d1352201_ch4', 'd13522_d1352202', 'd13522_d1352203', 'd13522_d1352206', 'd13522_d1352211', 'd13522_d1352212', 'd13522_d1352213', 'd13522_d1352213_ch1', 'd13711_d1371101', 'd13711_d1371103', 'd13711_d1371104', 'd13711_d1371105', 'd13921_d1392102', 'd14531_d1453101', 'd14531_d1453103', 'd14531_d1453104', 'd14921_d1492105', 'd15121_d1512101', 'd15121_d1512102', 'd15121_d1512103', 'd15121_d1512103_ch2', 'd15711_d15711.001', 'd15712_d15712.001', 'd15712_d15712.002', 'd15712_d15712.003', 'd15712_d15712.003_ch3', 'd16311_d16311.001', 'd16311_d16311.002', 'd16613_d16613.001', 'd17012_d17012.001', 'd17013_d17013.002', 'd17013_d17013.002_ch3', 'd17013_d17013.003', 'd17111_d17111.001', 'd17111_d17111.003', 'd17111_d17111.003_ch1', 'd17212_d17212.001', 'd17212_d17212.001_ch2', 'd17212_d17212.002', 'd18011_d18011.001', 'd18011_d18011.001_ch3', 'd18011_d18011.002', 'd18011_d18011.004', 'd18011_d18011.004_ch3', 'd18011_d18011.005', 'd18021_d18021.001', 'd18021_d18021.003', 'd18021_d18021.004', 'd18021_d18021.004_ch1', 'd18711_d18711.001', 'd18712_d18712.001', 'd18811_d18811.001', 'd18911_d18911.001', 'd5331_d533101', 'd5611_d561103', 'd5611_d561104', 'd6111_d611107', 'd6111_d611108', 'd6811_d681101', 'd6811_d681102', 'd6811_d681102_ch4', 'd6811_d681103', 'd6811_d681103_ch2', 'd6811_d681103_ch3', 'd6811_d681104', 'd6811_d681105', 'd6811_d681106', 'd6811_d681108', 'd7111_d711101', 'd7111_d711102', 'd7111_d711102_ch4', 'd7111_d711105', 'd7111_d711107', 'd7211_d721101', 'd7212_d721205', 'd7212_d721206', 'd7212_d721207', 'd7212_d721208', 'd7212_d721209', 'd8131_d081fre.001', 'd8131_d081fre.001_ch3', 'd8131_d813101', 'd8131_d813101_ch1', 'd8131_d813102', 'd8211_d082free.001', 'd8211_d821101', 'd8321_d083dm.005', 'd8321_d083dm.006', 'd8321_d083dm.006_ch2', 'd8321_d083dm.007', 'd8321_d083dm.008', 'drift_8x_A_2A', 'drift_8x_A_2B', 'drift_8x_A_4A', 'drift_8x_A_4B', 'drift_8x_B_2A', 'drift_8x_B_2B', 'drift_8x_B_4A', 'drift_8x_B_4B', 'drift_8x_C_2A', 'drift_8x_C_2B', 'drift_8x_C_4A', 'drift_8x_C_4B', 'm108_191125_163508', 'm108_191125_171427', 'm113_191125_204935', 'm113_191125_213423', 'm113_191125_235131', 'm139_200114_191955', 'm139_200114_195433', 'm139_200114_201701', 'm139_200114_205038', 'm139_200114_214225', 'm139_200114_222743', 'm139_200114_230220', 'm14_190326_155432', 'm14_190326_160710_cell1', 'm15_190315_142052_cell1', 'm15_190315_145422', 'm15_190315_150831_cell1', 'm15_190315_152315_cell1', 'm26_190524_100859_cell1', 'm26_190524_100859_cell2', 'm26_190524_100859_cell3', 'm52_190731_145204_cell1', 'm52_190731_145204_cell3', 'm57_191105_141906', 'm57_191105_145205', 'm57_191105_153915', 'm57_191105_160026', 'm57_191105_161455', 'm57_191105_163645', 'rec_16c_1200s_11', 'rec_16c_1200s_21', 'rec_16c_1200s_31', 'rec_16c_600s_11', 'rec_16c_600s_12', 'rec_16c_600s_21', 'rec_16c_600s_22', 'rec_16c_600s_31', 'rec_16c_600s_32', 'rec_32c_1200s_11', 'rec_32c_1200s_21', 'rec_32c_1200s_31', 'rec_32c_600s_11', 'rec_32c_600s_12', 'rec_32c_600s_21', 'rec_32c_600s_22', 'rec_32c_600s_31', 'rec_32c_600s_32', 'rec_4c_1200s_11', 'rec_4c_1200s_21', 'rec_4c_1200s_31', 'rec_4c_600s_11', 'rec_4c_600s_12', 'rec_4c_600s_21', 'rec_4c_600s_22', 'rec_4c_600s_31', 'rec_4c_600s_32', 'rec_64c_1200s_11', 'rec_64c_600s_11', 'rec_64c_600s_12', 'set1', 'set2', 'set3', 'set4', 'set5', 'set6', 'shuffle_8x_A_2A', 'shuffle_8x_A_2B', 'shuffle_8x_A_4A', 'shuffle_8x_A_4B', 'shuffle_8x_B_2A', 'shuffle_8x_B_2B', 'shuffle_8x_B_4A', 'shuffle_8x_B_4B', 'shuffle_8x_C_2A', 'shuffle_8x_C_2B', 'shuffle_8x_C_4A', 'shuffle_8x_C_4B', 'simulation_1', 'simulation_10', 'simulation_11', 'simulation_12', 'simulation_13', 'simulation_14', 'simulation_15', 'simulation_16', 'simulation_17', 'simulation_18', 'simulation_19', 'simulation_2', 'simulation_20', 'simulation_21', 'simulation_22', 'simulation_23', 'simulation_24', 'simulation_25', 'simulation_26', 'simulation_27', 'simulation_28', 'simulation_29', 'simulation_3', 'simulation_30', 'simulation_31', 'simulation_32', 'simulation_33', 'simulation_34', 'simulation_35', 'simulation_36', 'simulation_37', 'simulation_38', 'simulation_39', 'simulation_4', 'simulation_40', 'simulation_41', 'simulation_42', 'simulation_43', 'simulation_44', 'simulation_45', 'simulation_46', 'simulation_47', 'simulation_48', 'simulation_49', 'simulation_5', 'simulation_50', 'simulation_51', 'simulation_52', 'simulation_53', 'simulation_54', 'simulation_55', 'simulation_56', 'simulation_57', 'simulation_58', 'simulation_59', 'simulation_6', 'simulation_60', 'simulation_61', 'simulation_62', 'simulation_63', 'simulation_64', 'simulation_65', 'simulation_66', 'simulation_67', 'simulation_68', 'simulation_69', 'simulation_7', 'simulation_70', 'simulation_71', 'simulation_72', 'simulation_73', 'simulation_74', 'simulation_75', 'simulation_76', 'simulation_77', 'simulation_78', 'simulation_79', 'simulation_8', 'simulation_80', 'simulation_81', 'simulation_82', 'simulation_83', 'simulation_84', 'simulation_85', 'simulation_86', 'simulation_87', 'simulation_88', 'simulation_89', 'simulation_9', 'simulation_90', 'simulation_91', 'simulation_92', 'simulation_93', 'simulation_94', 'simulation_95', 'sorter1_1', 'sorter1_2', 'sorter1_3', 'sorter1_4', 'sorter2_1', 'sorter2_2', 'sorter2_3', 'sorter2_4', 'sorter3_1', 'sorter3_2', 'sorter3_3', 'sorter3_4', 'static_8x_A_2A', 'static_8x_A_2B', 'static_8x_A_4A', 'static_8x_A_4B', 'static_8x_B_2A', 'static_8x_B_2B', 'static_8x_B_4A', 'static_8x_B_4B', 'static_8x_C_2A', 'static_8x_C_2B', 'static_8x_C_4A', 'static_8x_C_4B'])\n"
     ]
    }
   ],
   "source": [
    "# Returns a dictionary of pandas dataframes, with key recording_name\n",
    "all_data = parse_sf_results(sf_data=sf_data, by_recording=True, train_test_split=False)\n",
    "print(all_data.keys())"
   ],
   "metadata": {
    "collapsed": false,
    "pycharm": {
     "name": "#%%\n"
    }
   }
  },
  {
   "cell_type": "code",
   "execution_count": 6,
   "outputs": [
    {
     "name": "stdout",
     "output_type": "stream",
     "text": [
      "dict_keys(['X_train', 'X_test', 'y_train', 'y_test'])\n"
     ]
    }
   ],
   "source": [
    "# Returns a dictionary numpy arrays split into training and testing batches, split by recording_name\n",
    "all_data = parse_sf_results(sf_data=sf_data, by_sorter=True, train_test_split=True)\n",
    "print(all_data['HerdingSpikes2'].keys())"
   ],
   "metadata": {
    "collapsed": false,
    "pycharm": {
     "name": "#%%\n"
    }
   }
  },
  {
   "cell_type": "code",
   "execution_count": 7,
   "outputs": [
    {
     "name": "stdout",
     "output_type": "stream",
     "text": [
      "dict_keys(['hybrid_drift_siprobe', 'hybrid_drift_tetrode', 'hybrid_static_siprobe', 'hybrid_static_tetrode', 'manual_tetrode_1200s', 'manual_tetrode_2400s', 'manual_tetrode_600s', 'mea_c30', 'neurocube_quiroga_difficult1', 'neurocube_quiroga_difficult2', 'neurocube_quiroga_easy1', 'neurocube_quiroga_easy2', 'neurocube_sim2_11K20', 'neurocube_sim2_2K10', 'synth_bionet_drift', 'synth_bionet_shuffle', 'synth_bionet_static', 'synth_magland_noise10_K10_C4', 'synth_magland_noise10_K10_C8', 'synth_magland_noise10_K20_C4', 'synth_magland_noise10_K20_C8', 'synth_magland_noise20_K10_C4', 'synth_magland_noise20_K10_C8', 'synth_magland_noise20_K20_C4', 'synth_magland_noise20_K20_C8', 'synth_mearec_neuronexus_noise10_K10_C32', 'synth_mearec_neuronexus_noise10_K20_C32', 'synth_mearec_neuronexus_noise10_K40_C32', 'synth_mearec_neuronexus_noise20_K10_C32', 'synth_mearec_neuronexus_noise20_K20_C32', 'synth_mearec_neuronexus_noise20_K40_C32', 'synth_mearec_tetrode_noise10_K10_C4', 'synth_mearec_tetrode_noise10_K20_C4', 'synth_mearec_tetrode_noise20_K10_C4', 'synth_mearec_tetrode_noise20_K20_C4'])\n"
     ]
    }
   ],
   "source": [
    "# You can exclude and include certain studies/sortings/metrics\n",
    "# Get 'paired' study names to exclude\n",
    "paired_study_names = list(set([entry['studyName'] for entry in sf_data if 'paired' in entry['studyName']]))\n",
    "\n",
    "all_data = parse_sf_results(sf_data=sf_data, exclude_study_names=paired_study_names, by_study=True, train_test_split=False)\n",
    "print(all_data.keys())"
   ],
   "metadata": {
    "collapsed": false,
    "pycharm": {
     "name": "#%%\n"
    }
   }
  }
 ],
 "metadata": {
  "kernelspec": {
   "display_name": "Python 3",
   "language": "python",
   "name": "python3"
  },
  "language_info": {
   "codemirror_mode": {
    "name": "ipython",
    "version": 2
   },
   "file_extension": ".py",
   "mimetype": "text/x-python",
   "name": "python",
   "nbconvert_exporter": "python",
   "pygments_lexer": "ipython2",
   "version": "2.7.6"
  }
 },
 "nbformat": 4,
 "nbformat_minor": 0
}